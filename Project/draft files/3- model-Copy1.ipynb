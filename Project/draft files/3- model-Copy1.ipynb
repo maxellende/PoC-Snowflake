{
 "cells": [
  {
   "cell_type": "markdown",
   "id": "9ec27017",
   "metadata": {},
   "source": [
    "# Pattern Lakehouse\n",
    "Sujet de stage 2023"
   ]
  },
  {
   "cell_type": "markdown",
   "id": "fd212378",
   "metadata": {},
   "source": [
    "# Snowflake account connection"
   ]
  },
  {
   "cell_type": "code",
   "execution_count": 1,
   "id": "61ea98f2",
   "metadata": {},
   "outputs": [],
   "source": [
    "# ! pip freeze > requirements/requirements.txt"
   ]
  },
  {
   "cell_type": "code",
   "execution_count": 155,
   "id": "fb8bcb85",
   "metadata": {},
   "outputs": [],
   "source": [
    "import matplotlib.pyplot as plt\n",
    "import numpy as np\n",
    "import pandas as pd\n",
    "import time\n",
    "from imblearn.over_sampling import SMOTE\n",
    "import opendatasets as od\n",
    "from sklearn import svm\n",
    "from sklearn.preprocessing import MinMaxScaler\n",
    "from sklearn.metrics import f1_score, confusion_matrix, ConfusionMatrixDisplay, recall_score\n",
    "from sklearn.model_selection import GridSearchCV, train_test_split, StratifiedKFold, cross_val_score\n",
    "from sklearn.linear_model import LogisticRegression\n",
    "from sklearn.neighbors import KNeighborsClassifier\n",
    "from sklearn.tree import DecisionTreeClassifier\n",
    "from sklearn.ensemble import RandomForestClassifier\n",
    "from sklearn.preprocessing import StandardScaler\n",
    "from sklearn.pipeline import Pipeline\n",
    "# from snowflake.snowpark import version\n",
    "# from snowflake.snowpark.functions import udf, sproc, col\n",
    "# from snowflake.snowpark.session import Session\n",
    "# from snowflake.snowpark.types import IntegerType, FloatType, StringType, BooleanType, Variant\n",
    "\n",
    "# print(f\"Snowflake snowpark version is: {version.VERSION}\")\n",
    "import joblib"
   ]
  },
  {
   "cell_type": "code",
   "execution_count": null,
   "id": "07498dd3",
   "metadata": {},
   "outputs": [],
   "source": [
    "# # #!/usr/bin/env python\n",
    "# import snowflake.connector\n",
    "\n",
    "# # Gets the version\n",
    "# ctx = snowflake.connector.connect(\n",
    "#     user='maxellende',\n",
    "#     password='passwordSF22!',\n",
    "#     account='hovuthf-jh06936', \n",
    "#     role = 'ACCOUNTADMIN',\n",
    "#     warehouse = 'HOL_WH',\n",
    "#     schema = 'PUBLIC',\n",
    "#     database = 'HOL_DB'\n",
    "\n",
    "#     )\n",
    "\n",
    "\n"
   ]
  },
  {
   "cell_type": "markdown",
   "id": "f8c2affa",
   "metadata": {},
   "source": [
    "# Fraud detection "
   ]
  },
  {
   "cell_type": "markdown",
   "id": "0d976e87",
   "metadata": {},
   "source": [
    "## Libraries and Data \n"
   ]
  },
  {
   "cell_type": "code",
   "execution_count": 33,
   "id": "a6edccdf",
   "metadata": {},
   "outputs": [],
   "source": [
    "# with open('creds.json') as f:\n",
    "#     connection_parameters = json.load(f)"
   ]
  },
  {
   "cell_type": "code",
   "execution_count": 34,
   "id": "07535ef1",
   "metadata": {},
   "outputs": [
    {
     "name": "stdout",
     "output_type": "stream",
     "text": [
      "Current Database and schema: \"HOL_DB\".\"PUBLIC\"\n",
      "Current Warehouse: \"HOL_WH\"\n"
     ]
    }
   ],
   "source": [
    "# session = Session.builder.configs(connection_parameters).create()\n",
    "# print(f\"Current Database and schema: {session.get_fully_qualified_current_schema()}\")\n",
    "# print(f\"Current Warehouse: {session.get_current_warehouse()}\")"
   ]
  },
  {
   "cell_type": "code",
   "execution_count": 56,
   "id": "fa207d72",
   "metadata": {},
   "outputs": [],
   "source": [
    "# sql = 'SELECT * from CREDIT_RECORD'\n",
    "# cursor = ctx.cursor()\n",
    "# cursor.execute(sql)\n",
    "# df = cursor.fetch_pandas_all()\n"
   ]
  },
  {
   "cell_type": "code",
   "execution_count": 35,
   "id": "47bb11b3",
   "metadata": {},
   "outputs": [],
   "source": [
    "df = session.table('CREDIT_RECORD')"
   ]
  },
  {
   "cell_type": "code",
   "execution_count": 58,
   "id": "c90de48e",
   "metadata": {},
   "outputs": [
    {
     "name": "stdout",
     "output_type": "stream",
     "text": [
      "------------------------------------------------------------------------------------------------------------------------------------------------------------------------------------------------------------------------------------------------------------------------------------------------------------------------------------------------------------------------------------------------------------------------------------------------------------------------------------------------------------------------------------------------------------------------------------------------------------------------------------------------------------------------------------------------------------------------------------------------------------------------------------------------------------------------------------------------------------------------------------------------------------------------------------------------------------------------------------------------------------------------------------------------------------------------------------------------------------------------------------------------------------------------------------------------------------------------------------------\n",
      "|\"FRAUD_BOOL\"  |\"INCOME\"            |\"NAME_EMAIL_SIMILARITY\"  |\"PREV_ADDRESS_MONTHS_COUNT\"  |\"CURRENT_ADDRESS_MONTHS_COUNT\"  |\"CUSTOMER_AGE\"  |\"DAYS_SINCE_REQUEST\"  |\"INTENDED_BALCON_AMOUNT\"  |\"ZIP_COUNT_4W\"  |\"VELOCITY_6H\"       |\"VELOCITY_24H\"      |\"VELOCITY_4W\"      |\"BANK_BRANCH_COUNT_8W\"  |\"DATE_OF_BIRTH_DISTINCT_EMAILS_4W\"  |\"CREDIT_RISK_SCORE\"  |\"EMAIL_IS_FREE\"  |\"PHONE_HOME_VALID\"  |\"PHONE_MOBILE_VALID\"  |\"BANK_MONTHS_COUNT\"  |\"HAS_OTHER_CARDS\"  |\"PROPOSED_CREDIT_LIMIT\"  |\"FOREIGN_REQUEST\"  |\"SESSION_LENGTH_IN_MINUTES\"  |\"KEEP_ALIVE_SESSION\"  |\"DEVICE_DISTINCT_EMAILS_8W\"  |\"DEVICE_FRAUD_COUNT\"  |\"MONTH\"  |\"PAYMENT_TYPE_AB\"  |\"PAYMENT_TYPE_AA\"  |\"PAYMENT_TYPE_AC\"  |\"PAYMENT_TYPE_AE\"  |\"PAYMENT_TYPE_AD\"  |\"EMPLOYMENT_STATUS_CC\"  |\"EMPLOYMENT_STATUS_CG\"  |\"EMPLOYMENT_STATUS_CD\"  |\"EMPLOYMENT_STATUS_CA\"  |\"EMPLOYMENT_STATUS_CF\"  |\"EMPLOYMENT_STATUS_CE\"  |\"EMPLOYMENT_STATUS_CB\"  |\"HOUSING_STATUS_BG\"  |\"HOUSING_STATUS_BA\"  |\"HOUSING_STATUS_BE\"  |\"HOUSING_STATUS_BF\"  |\"HOUSING_STATUS_BB\"  |\"HOUSING_STATUS_BC\"  |\"HOUSING_STATUS_BD\"  |\"SOURCE_INTERNET\"  |\"SOURCE_TELEAPP\"  |\"DEVICE_OS_LINUX\"  |\"DEVICE_OS_WINDOWS\"  |\"DEVICE_OS_X11\"  |\"DEVICE_OS_OTHER\"  |\"DEVICE_OS_MACINTOSH\"  |\n",
      "------------------------------------------------------------------------------------------------------------------------------------------------------------------------------------------------------------------------------------------------------------------------------------------------------------------------------------------------------------------------------------------------------------------------------------------------------------------------------------------------------------------------------------------------------------------------------------------------------------------------------------------------------------------------------------------------------------------------------------------------------------------------------------------------------------------------------------------------------------------------------------------------------------------------------------------------------------------------------------------------------------------------------------------------------------------------------------------------------------------------------------------------------------------------------------------------------------------------------------------\n",
      "|0             |0.9                 |0.9901754194084876       |28                           |27                              |40              |0.0076008374874189    |52.213070218560894        |941             |3794.6354054904     |3583.578774447309   |4872.622433229533  |5                       |10                                  |209                  |1                |0                   |1                     |3                    |1                  |990.0                    |0                  |1.980749728415528            |0                     |1                            |0                     |4        |0                  |1                  |0                  |0                  |0                  |0                       |0                       |0                       |1                       |0                       |0                       |0                       |0                    |0                    |0                    |0                    |0                    |1                    |0                    |1                  |0                 |0                  |0                    |0                |0                  |1                      |\n",
      "|0             |0.6000000000000001  |0.1121679779122498       |101                          |4                               |50              |6.435678373886704     |-0.3773172226461602       |994             |7153.740556698318   |5200.2224004805485  |4794.24176017717   |0                       |8                                   |67                   |1                |0                   |1                     |-1                   |0                  |200.0                    |0                  |33.64441220538343            |0                     |1                            |0                     |4        |0                  |0                  |1                  |0                  |0                  |0                       |0                       |0                       |1                       |0                       |0                       |0                       |0                    |1                    |0                    |0                    |0                    |0                    |0                    |1                  |0                 |1                  |0                    |0                |0                  |0                      |\n",
      "|0             |0.6000000000000001  |0.3718041726545752       |-1                           |112                             |20              |0.0262026607008721    |-1.0726976162853534       |2694            |7298.929304702706   |5524.473049091516   |4374.160072630887  |19                      |20                                  |120                  |1                |0                   |1                     |28                   |0                  |200.0                    |0                  |12.827417117268933           |0                     |2                            |0                     |4        |1                  |0                  |0                  |0                  |0                  |0                       |0                       |0                       |1                       |0                       |0                       |0                       |0                    |0                    |0                    |0                    |0                    |1                    |0                    |1                  |0                 |0                  |1                    |0                |0                  |0                      |\n",
      "|0             |0.6000000000000001  |0.9112219816402308       |-1                           |15                              |30              |0.0298093952886105    |-1.4001954464050246       |651             |6392.861735952289   |4989.59943310212    |5063.54779505413   |0                       |14                                  |216                  |1                |0                   |1                     |-1                   |1                  |1000.0                   |0                  |7.264525428574162            |0                     |1                            |0                     |4        |0                  |0                  |1                  |0                  |0                  |0                       |0                       |0                       |1                       |0                       |0                       |0                       |0                    |1                    |0                    |0                    |0                    |0                    |0                    |1                  |0                 |0                  |0                    |0                |0                  |1                      |\n",
      "|0             |0.9                 |0.2982935055469494       |31                           |12                              |40              |0.0014567593934031    |-0.8522823434917235       |993             |6113.990775820476   |3230.4979156715626  |4865.714332848384  |0                       |7                                   |128                  |1                |0                   |1                     |-1                   |0                  |200.0                    |0                  |3.1303171071563702           |0                     |1                            |0                     |4        |0                  |0                  |1                  |0                  |0                  |0                       |0                       |0                       |1                       |0                       |0                       |0                       |0                    |1                    |0                    |0                    |0                    |0                    |0                    |1                  |0                 |0                  |0                    |0                |1                  |0                      |\n",
      "|0             |0.1                 |0.4647674601217586       |-1                           |73                              |30              |3.622082981545829     |-0.6393602980610771       |1194            |1261.0349094388123  |5330.141625548044   |4253.464153065865  |1498                    |11                                  |55                   |1                |0                   |1                     |30                   |0                  |200.0                    |0                  |6.128008763182738            |1                     |1                            |0                     |4        |1                  |0                  |0                  |0                  |0                  |0                       |0                       |0                       |1                       |0                       |0                       |0                       |0                    |0                    |0                    |0                    |1                    |0                    |0                    |1                  |0                 |1                  |0                    |0                |0                  |0                      |\n",
      "|0             |0.3                 |0.1979754705687063       |-1                           |39                              |20              |0.0345505824567183    |-1.4835482205354171       |1119            |4851.434546550432   |4571.817096250778   |4171.897282642528  |16                      |16                                  |91                   |1                |1                   |1                     |1                    |0                  |200.0                    |0                  |9.730055380567746            |0                     |1                            |0                     |4        |1                  |0                  |0                  |0                  |0                  |0                       |0                       |0                       |0                       |1                       |0                       |0                       |0                    |0                    |0                    |0                    |1                    |0                    |0                    |1                  |0                 |1                  |0                    |0                |0                  |0                      |\n",
      "|0             |0.7000000000000001  |0.2323528281705045       |-1                           |175                             |50              |0.0082337836861961    |-1.107816661083424        |1159            |5812.3499782740455  |4891.2318952654605  |5075.495168137144  |0                       |5                                   |65                   |0                |1                   |0                     |-1                   |0                  |200.0                    |0                  |33.50214298612542            |0                     |1                            |0                     |4        |0                  |0                  |1                  |0                  |0                  |0                       |0                       |0                       |1                       |0                       |0                       |0                       |0                    |0                    |0                    |0                    |1                    |0                    |0                    |1                  |0                 |1                  |0                    |0                |0                  |0                      |\n",
      "|0             |0.6000000000000001  |0.8590672392938141       |-1                           |58                              |30              |0.0311677027359884    |-1.418458176941089        |2467            |7219.037948755259   |4698.662773286612   |4282.488208965277  |1                       |20                                  |151                  |0                |1                   |1                     |11                   |0                  |1500.0                   |0                  |2.3043770242207726           |1                     |1                            |0                     |4        |0                  |0                  |1                  |0                  |0                  |0                       |0                       |0                       |1                       |0                       |0                       |0                       |0                    |0                    |0                    |0                    |0                    |1                    |0                    |1                  |0                 |0                  |0                    |0                |1                  |0                      |\n",
      "|0             |0.9                 |0.7177478676117114       |-1                           |36                              |40              |0.0176687763378946    |21.43449808644908         |1608            |725.7121056582065   |8396.435194715361   |4203.012881937605  |507                     |6                                   |100                  |0                |1                   |1                     |31                   |1                  |200.0                    |0                  |4.700677545720608            |0                     |1                            |0                     |4        |0                  |1                  |0                  |0                  |0                  |0                       |0                       |0                       |1                       |0                       |0                       |0                       |0                    |0                    |0                    |0                    |0                    |1                    |0                    |1                  |0                 |0                  |0                    |0                |1                  |0                      |\n",
      "------------------------------------------------------------------------------------------------------------------------------------------------------------------------------------------------------------------------------------------------------------------------------------------------------------------------------------------------------------------------------------------------------------------------------------------------------------------------------------------------------------------------------------------------------------------------------------------------------------------------------------------------------------------------------------------------------------------------------------------------------------------------------------------------------------------------------------------------------------------------------------------------------------------------------------------------------------------------------------------------------------------------------------------------------------------------------------------------------------------------------------------------------------------------------------------------------------------------------------------\n",
      "\n"
     ]
    }
   ],
   "source": [
    "df.show()\n"
   ]
  },
  {
   "cell_type": "code",
   "execution_count": 59,
   "id": "648df976",
   "metadata": {},
   "outputs": [
    {
     "data": {
      "text/html": [
       "<div>\n",
       "<style scoped>\n",
       "    .dataframe tbody tr th:only-of-type {\n",
       "        vertical-align: middle;\n",
       "    }\n",
       "\n",
       "    .dataframe tbody tr th {\n",
       "        vertical-align: top;\n",
       "    }\n",
       "\n",
       "    .dataframe thead th {\n",
       "        text-align: right;\n",
       "    }\n",
       "</style>\n",
       "<table border=\"1\" class=\"dataframe\">\n",
       "  <thead>\n",
       "    <tr style=\"text-align: right;\">\n",
       "      <th></th>\n",
       "      <th>SUMMARY</th>\n",
       "      <th>FRAUD_BOOL</th>\n",
       "      <th>INCOME</th>\n",
       "      <th>NAME_EMAIL_SIMILARITY</th>\n",
       "      <th>PREV_ADDRESS_MONTHS_COUNT</th>\n",
       "      <th>CURRENT_ADDRESS_MONTHS_COUNT</th>\n",
       "      <th>CUSTOMER_AGE</th>\n",
       "      <th>DAYS_SINCE_REQUEST</th>\n",
       "      <th>INTENDED_BALCON_AMOUNT</th>\n",
       "      <th>ZIP_COUNT_4W</th>\n",
       "      <th>...</th>\n",
       "      <th>HOUSING_STATUS_BB</th>\n",
       "      <th>HOUSING_STATUS_BC</th>\n",
       "      <th>HOUSING_STATUS_BD</th>\n",
       "      <th>SOURCE_INTERNET</th>\n",
       "      <th>SOURCE_TELEAPP</th>\n",
       "      <th>DEVICE_OS_LINUX</th>\n",
       "      <th>DEVICE_OS_WINDOWS</th>\n",
       "      <th>DEVICE_OS_X11</th>\n",
       "      <th>DEVICE_OS_OTHER</th>\n",
       "      <th>DEVICE_OS_MACINTOSH</th>\n",
       "    </tr>\n",
       "  </thead>\n",
       "  <tbody>\n",
       "    <tr>\n",
       "      <th>0</th>\n",
       "      <td>min</td>\n",
       "      <td>0.000000</td>\n",
       "      <td>0.100000</td>\n",
       "      <td>0.000001</td>\n",
       "      <td>-1.000000</td>\n",
       "      <td>-1.000000</td>\n",
       "      <td>10.000000</td>\n",
       "      <td>4.036860e-09</td>\n",
       "      <td>-15.530555</td>\n",
       "      <td>1.000000</td>\n",
       "      <td>...</td>\n",
       "      <td>0.000000</td>\n",
       "      <td>0.000000</td>\n",
       "      <td>0.000000</td>\n",
       "      <td>0.000000</td>\n",
       "      <td>0.000000</td>\n",
       "      <td>0.000000</td>\n",
       "      <td>0.000000</td>\n",
       "      <td>0.000000</td>\n",
       "      <td>0.000000</td>\n",
       "      <td>0.000000</td>\n",
       "    </tr>\n",
       "    <tr>\n",
       "      <th>1</th>\n",
       "      <td>count</td>\n",
       "      <td>1000000.000000</td>\n",
       "      <td>1000000.000000</td>\n",
       "      <td>1000000.000000</td>\n",
       "      <td>1000000.000000</td>\n",
       "      <td>1000000.000000</td>\n",
       "      <td>1000000.000000</td>\n",
       "      <td>1.000000e+06</td>\n",
       "      <td>1000000.000000</td>\n",
       "      <td>1000000.000000</td>\n",
       "      <td>...</td>\n",
       "      <td>1000000.000000</td>\n",
       "      <td>1000000.000000</td>\n",
       "      <td>1000000.000000</td>\n",
       "      <td>1000000.000000</td>\n",
       "      <td>1000000.000000</td>\n",
       "      <td>1000000.000000</td>\n",
       "      <td>1000000.000000</td>\n",
       "      <td>1000000.000000</td>\n",
       "      <td>1000000.000000</td>\n",
       "      <td>1000000.000000</td>\n",
       "    </tr>\n",
       "    <tr>\n",
       "      <th>2</th>\n",
       "      <td>max</td>\n",
       "      <td>1.000000</td>\n",
       "      <td>0.900000</td>\n",
       "      <td>0.999999</td>\n",
       "      <td>383.000000</td>\n",
       "      <td>428.000000</td>\n",
       "      <td>90.000000</td>\n",
       "      <td>7.845690e+01</td>\n",
       "      <td>112.956928</td>\n",
       "      <td>6700.000000</td>\n",
       "      <td>...</td>\n",
       "      <td>1.000000</td>\n",
       "      <td>1.000000</td>\n",
       "      <td>1.000000</td>\n",
       "      <td>1.000000</td>\n",
       "      <td>1.000000</td>\n",
       "      <td>1.000000</td>\n",
       "      <td>1.000000</td>\n",
       "      <td>1.000000</td>\n",
       "      <td>1.000000</td>\n",
       "      <td>1.000000</td>\n",
       "    </tr>\n",
       "    <tr>\n",
       "      <th>3</th>\n",
       "      <td>mean</td>\n",
       "      <td>0.011029</td>\n",
       "      <td>0.562696</td>\n",
       "      <td>0.493694</td>\n",
       "      <td>16.718568</td>\n",
       "      <td>86.587867</td>\n",
       "      <td>33.689080</td>\n",
       "      <td>1.025705e+00</td>\n",
       "      <td>8.661499</td>\n",
       "      <td>1572.692049</td>\n",
       "      <td>...</td>\n",
       "      <td>0.260965</td>\n",
       "      <td>0.372143</td>\n",
       "      <td>0.026161</td>\n",
       "      <td>0.992952</td>\n",
       "      <td>0.007048</td>\n",
       "      <td>0.332712</td>\n",
       "      <td>0.263506</td>\n",
       "      <td>0.007228</td>\n",
       "      <td>0.342728</td>\n",
       "      <td>0.053826</td>\n",
       "    </tr>\n",
       "    <tr>\n",
       "      <th>4</th>\n",
       "      <td>stddev</td>\n",
       "      <td>0.104437</td>\n",
       "      <td>0.290343</td>\n",
       "      <td>0.289125</td>\n",
       "      <td>44.046230</td>\n",
       "      <td>88.406599</td>\n",
       "      <td>12.025799</td>\n",
       "      <td>5.381835e+00</td>\n",
       "      <td>20.236155</td>\n",
       "      <td>1005.374565</td>\n",
       "      <td>...</td>\n",
       "      <td>0.439161</td>\n",
       "      <td>0.483377</td>\n",
       "      <td>0.159615</td>\n",
       "      <td>0.083654</td>\n",
       "      <td>0.083654</td>\n",
       "      <td>0.471185</td>\n",
       "      <td>0.440535</td>\n",
       "      <td>0.084711</td>\n",
       "      <td>0.474622</td>\n",
       "      <td>0.225675</td>\n",
       "    </tr>\n",
       "  </tbody>\n",
       "</table>\n",
       "<p>5 rows × 54 columns</p>\n",
       "</div>"
      ],
      "text/plain": [
       "  SUMMARY      FRAUD_BOOL          INCOME  NAME_EMAIL_SIMILARITY  \\\n",
       "0     min        0.000000        0.100000               0.000001   \n",
       "1   count  1000000.000000  1000000.000000         1000000.000000   \n",
       "2     max        1.000000        0.900000               0.999999   \n",
       "3    mean        0.011029        0.562696               0.493694   \n",
       "4  stddev        0.104437        0.290343               0.289125   \n",
       "\n",
       "   PREV_ADDRESS_MONTHS_COUNT  CURRENT_ADDRESS_MONTHS_COUNT    CUSTOMER_AGE  \\\n",
       "0                  -1.000000                     -1.000000       10.000000   \n",
       "1             1000000.000000                1000000.000000  1000000.000000   \n",
       "2                 383.000000                    428.000000       90.000000   \n",
       "3                  16.718568                     86.587867       33.689080   \n",
       "4                  44.046230                     88.406599       12.025799   \n",
       "\n",
       "   DAYS_SINCE_REQUEST  INTENDED_BALCON_AMOUNT    ZIP_COUNT_4W  ...  \\\n",
       "0        4.036860e-09              -15.530555        1.000000  ...   \n",
       "1        1.000000e+06          1000000.000000  1000000.000000  ...   \n",
       "2        7.845690e+01              112.956928     6700.000000  ...   \n",
       "3        1.025705e+00                8.661499     1572.692049  ...   \n",
       "4        5.381835e+00               20.236155     1005.374565  ...   \n",
       "\n",
       "   HOUSING_STATUS_BB  HOUSING_STATUS_BC  HOUSING_STATUS_BD  SOURCE_INTERNET  \\\n",
       "0           0.000000           0.000000           0.000000         0.000000   \n",
       "1     1000000.000000     1000000.000000     1000000.000000   1000000.000000   \n",
       "2           1.000000           1.000000           1.000000         1.000000   \n",
       "3           0.260965           0.372143           0.026161         0.992952   \n",
       "4           0.439161           0.483377           0.159615         0.083654   \n",
       "\n",
       "   SOURCE_TELEAPP  DEVICE_OS_LINUX  DEVICE_OS_WINDOWS   DEVICE_OS_X11  \\\n",
       "0        0.000000         0.000000           0.000000        0.000000   \n",
       "1  1000000.000000   1000000.000000     1000000.000000  1000000.000000   \n",
       "2        1.000000         1.000000           1.000000        1.000000   \n",
       "3        0.007048         0.332712           0.263506        0.007228   \n",
       "4        0.083654         0.471185           0.440535        0.084711   \n",
       "\n",
       "   DEVICE_OS_OTHER  DEVICE_OS_MACINTOSH  \n",
       "0         0.000000             0.000000  \n",
       "1   1000000.000000       1000000.000000  \n",
       "2         1.000000             1.000000  \n",
       "3         0.342728             0.053826  \n",
       "4         0.474622             0.225675  \n",
       "\n",
       "[5 rows x 54 columns]"
      ]
     },
     "execution_count": 59,
     "metadata": {},
     "output_type": "execute_result"
    }
   ],
   "source": [
    "df.describe().to_pandas()"
   ]
  },
  {
   "cell_type": "markdown",
   "id": "0c34db10",
   "metadata": {},
   "source": [
    "## Scoring function"
   ]
  },
  {
   "cell_type": "markdown",
   "id": "f7874fd7",
   "metadata": {},
   "source": [
    "As shown above, the dataset is extremely unbalanced.\n",
    "To avoid a lazy model (i.e. predict everytime \"non fraud\" to reach 0.98 accuracy), we have will evaluate the models using F1-score instead of accuracy. The results will be visualized through a confusion matrix\n",
    "\n",
    "$$ F1\\text{-}score = \\frac{2 tp}{2tp + fp + fn}$$\n",
    "where \n",
    "- tp stands for $\\textit{true positive}$\n",
    "- fp stands for $\\textit{false positive}$\n",
    "- fn stands for $\\textit{false negative}$"
   ]
  },
  {
   "cell_type": "markdown",
   "id": "3608ea7f",
   "metadata": {},
   "source": [
    "## Pre-processing"
   ]
  },
  {
   "cell_type": "code",
   "execution_count": 60,
   "id": "53070a8c",
   "metadata": {},
   "outputs": [],
   "source": [
    "from sklearn.preprocessing import StandardScaler, MinMaxScaler"
   ]
  },
  {
   "cell_type": "code",
   "execution_count": null,
   "id": "327e4fce",
   "metadata": {},
   "outputs": [],
   "source": []
  },
  {
   "cell_type": "markdown",
   "id": "943d38db",
   "metadata": {},
   "source": [
    "**Comment**   0.7% of components are kept after PCA, we can assume that PCA is not necessary. "
   ]
  },
  {
   "cell_type": "markdown",
   "id": "85643670",
   "metadata": {},
   "source": [
    "# Data engineering"
   ]
  },
  {
   "cell_type": "code",
   "execution_count": 125,
   "id": "459c8f6d",
   "metadata": {},
   "outputs": [
    {
     "name": "stdout",
     "output_type": "stream",
     "text": [
      "Repartition of fraud : 0.011029% frauds, 0.988971% non frauds\n"
     ]
    },
    {
     "data": {
      "image/png": "[encoded data removed]",
      "text/plain": [
       "<Figure size 640x480 with 1 Axes>"
      ]
     },
     "metadata": {},
     "output_type": "display_data"
    }
   ],
   "source": [
    "filepath = '../bank-account-fraud-dataset-neurips-2022/Base.csv'\n",
    "df = pd.read_csv(filepath)\n",
    "\n",
    "fraud = df[\"fraud_bool\"].to_numpy()\n",
    "\n",
    "\n",
    "class_weights = np.array([np.count_nonzero(fraud), len(fraud) - np.count_nonzero(fraud)])/len(fraud)\n",
    "print(\"Repartition of fraud : {}% frauds, {}% non frauds\".format(class_weights[0],class_weights[1]))\n",
    "\n",
    "plt.yscale(\"log\")\n",
    "plt.hist(fraud, density= True, bins =2 )\n",
    "plt.title(\"Fraud repartition in dataset\")\n",
    "plt.show()"
   ]
  },
  {
   "cell_type": "code",
   "execution_count": 126,
   "id": "1155f738",
   "metadata": {},
   "outputs": [
    {
     "name": "stdout",
     "output_type": "stream",
     "text": [
      "All columns with categorical values\n",
      "       payment_type employment_status housing_status    source  device_os\n",
      "0                AA                CA             BA  INTERNET    windows\n",
      "1                AB                CA             BA  INTERNET    windows\n",
      "2                AC                CB             BA  INTERNET      other\n",
      "3                AB                CA             BA  INTERNET      linux\n",
      "4                AB                CA             BA  INTERNET  macintosh\n",
      "...             ...               ...            ...       ...        ...\n",
      "999995           AB                CA             BC  INTERNET      linux\n",
      "999996           AC                CC             BC  INTERNET    windows\n",
      "999997           AA                CF             BC  INTERNET      other\n",
      "999998           AA                CA             BA  INTERNET    windows\n",
      "999999           AA                CA             BE  INTERNET      linux\n",
      "\n",
      "[1000000 rows x 5 columns]\n"
     ]
    }
   ],
   "source": [
    "s = (df.dtypes == 'object') # list of column-names and wether they contain categorical features\n",
    "object_cols = list(s[s].index) # All the columns containing these features\n",
    "print(\"All columns with categorical values\")\n",
    "print(df[object_cols])\n",
    "\n",
    "for col in object_cols : \n",
    "    df_labels = df[col].str.get_dummies(' ')\n",
    "    df = pd.concat([df,df_labels], axis = 1)\n",
    "    df = df.drop([col],axis=1)\n"
   ]
  },
  {
   "cell_type": "markdown",
   "id": "7a24c861",
   "metadata": {},
   "source": [
    "## Model design"
   ]
  },
  {
   "cell_type": "markdown",
   "id": "4825f46b",
   "metadata": {},
   "source": [
    "The following methods will be used : \n",
    "- Logistic regression (with Cross-validation over parameters)\n",
    "- KNN (with Cross-validation over parameters)\n",
    "- Classifier (gaussian)\n",
    "- Tree classifier (Random Forest)\n",
    "\n",
    "To evaluate our models, we will use as scoring function F1 for the unbalanced fraud positive dataset and "
   ]
  },
  {
   "cell_type": "code",
   "execution_count": null,
   "id": "685b8dab",
   "metadata": {},
   "outputs": [],
   "source": []
  },
  {
   "cell_type": "markdown",
   "id": "3de20a14",
   "metadata": {},
   "source": [
    "## Model development\n"
   ]
  },
  {
   "cell_type": "code",
   "execution_count": null,
   "id": "0795a23f",
   "metadata": {},
   "outputs": [],
   "source": []
  },
  {
   "cell_type": "code",
   "execution_count": null,
   "id": "d78be386",
   "metadata": {},
   "outputs": [],
   "source": []
  },
  {
   "cell_type": "code",
   "execution_count": 127,
   "id": "8abc4270",
   "metadata": {},
   "outputs": [],
   "source": [
    "# df.show()"
   ]
  },
  {
   "cell_type": "code",
   "execution_count": 128,
   "id": "2b2bc5c1",
   "metadata": {},
   "outputs": [],
   "source": [
    "# def score_classifier(X,estimator,parameters, y, scaler = StandardScaler()):\n",
    "\n",
    "#     # search for best parameters\n",
    "#     pipeline = Pipeline([('scaler', scaler), ('estimator', estimator)]) # scale training dataset and test dataset in folds independently\n",
    "#     clf = GridSearchCV(pipeline, parameters, scoring ='f1', verbose =1)\n",
    "#     clf.fit(X,y)\n",
    "\n",
    "#     # evaluate best estimator\n",
    "#     best_estimator = clf.best_estimator_\n",
    "#     parameters = clf.best_params_\n",
    "#     score = clf.best_score_\n",
    "#     title = str(best_estimator)+'\\n f1-score (CV): '+str(score)\n",
    "#     y_pred = clf.predict(X) # same as best_estimator.predict(X)\n",
    "#     cm = confusion_matrix(y, y_pred)\n",
    "#     disp = ConfusionMatrixDisplay(cm)\n",
    "#     disp.plot()\n",
    "#     plt.title(title)\n",
    "#     plt.show()\n",
    "#     return(best_estimator, parameters, y_pred, score, cm)\n"
   ]
  },
  {
   "cell_type": "code",
   "execution_count": 129,
   "id": "dbd721fe",
   "metadata": {},
   "outputs": [],
   "source": [
    "# X = df.drop(\"FRAUD_BOOL\").to_pandas()\n",
    "# y = df.select(\"FRAUD_BOOL\").to_pandas()\n",
    "\n",
    "\n",
    "# class_weight = {1 : int(np.sum(y)), 0 : len(y) - int(np.sum(y))}\n",
    "# plt.hist(y)\n",
    "# plt.title(f'Repartition of fraud cases in the dataset \\n{np.mean(y)}% fraud')\n"
   ]
  },
  {
   "cell_type": "code",
   "execution_count": 130,
   "id": "359d06e0",
   "metadata": {},
   "outputs": [],
   "source": [
    "# df.select(list(numeric_cols)).to_pandas()"
   ]
  },
  {
   "cell_type": "code",
   "execution_count": 131,
   "id": "14d9c382",
   "metadata": {},
   "outputs": [],
   "source": [
    "df = df.drop(['device_fraud_count'], axis = 1)"
   ]
  },
  {
   "cell_type": "code",
   "execution_count": 132,
   "id": "69722cde",
   "metadata": {},
   "outputs": [],
   "source": [
    "X = df.drop(\"fraud_bool\", axis = 1)\n",
    "y = df[\"fraud_bool\"]"
   ]
  },
  {
   "cell_type": "code",
   "execution_count": 133,
   "id": "3de3ddbd",
   "metadata": {},
   "outputs": [],
   "source": [
    "# X_train, X_test, y_train, y_test = train_test_split(X,y)\n",
    "# numeric_cols = df.to_pandas().select_dtypes(include=['float64']).columns\n",
    "# X_train = pd.DataFrame(X_train, df.columns)\n",
    "# X_test = pd.DataFrame(X_test, df.columns)\n",
    "\n",
    "# scaler = MinMaxScaler()\n",
    "# X_train[numeric_cols] = scaler.fit_transform(X_train[numeric_cols])\n",
    "# X_test[numeric_cols] = scaler.fit(X_test[numeric_cols])\n"
   ]
  },
  {
   "cell_type": "code",
   "execution_count": 134,
   "id": "aaf113b2",
   "metadata": {},
   "outputs": [],
   "source": [
    "X_train, X_test, y_train, y_test = train_test_split(X,y)\n",
    "# numeric_cols = df.select_dtypes(=['float64']).columns\n",
    "# X_train = pd.DataFrame(X_train, columns = df.columns)\n",
    "# X_test = pd.DataFrame(X_test, df.columns)\n",
    "\n",
    "numeric_cols = df.iloc[:,1:27].drop(['email_is_free','phone_home_valid', 'phone_mobile_valid', 'has_other_cards', 'foreign_request','keep_alive_session'], axis = 1).columns\n",
    "\n",
    "scaler = MinMaxScaler()\n",
    "X_train[numeric_cols] = scaler.fit_transform(X_train[numeric_cols])\n",
    "X_test[numeric_cols] = scaler.transform(X_test[numeric_cols])\n"
   ]
  },
  {
   "cell_type": "code",
   "execution_count": 135,
   "id": "8c10cdd1",
   "metadata": {},
   "outputs": [],
   "source": [
    "# df.iloc[:,1:27].drop(['email_is_free','phone_home_valid', 'phone_mobile_valid', 'has_other_cards', 'foreign_request','keep_alive_session'], axis = 1)"
   ]
  },
  {
   "cell_type": "code",
   "execution_count": null,
   "id": "1e927294",
   "metadata": {},
   "outputs": [],
   "source": []
  },
  {
   "cell_type": "code",
   "execution_count": 136,
   "id": "19987596",
   "metadata": {},
   "outputs": [
    {
     "data": {
      "text/html": [
       "<div>\n",
       "<style scoped>\n",
       "    .dataframe tbody tr th:only-of-type {\n",
       "        vertical-align: middle;\n",
       "    }\n",
       "\n",
       "    .dataframe tbody tr th {\n",
       "        vertical-align: top;\n",
       "    }\n",
       "\n",
       "    .dataframe thead th {\n",
       "        text-align: right;\n",
       "    }\n",
       "</style>\n",
       "<table border=\"1\" class=\"dataframe\">\n",
       "  <thead>\n",
       "    <tr style=\"text-align: right;\">\n",
       "      <th></th>\n",
       "      <th>income</th>\n",
       "      <th>name_email_similarity</th>\n",
       "      <th>prev_address_months_count</th>\n",
       "      <th>current_address_months_count</th>\n",
       "      <th>customer_age</th>\n",
       "      <th>days_since_request</th>\n",
       "      <th>intended_balcon_amount</th>\n",
       "      <th>zip_count_4w</th>\n",
       "      <th>velocity_6h</th>\n",
       "      <th>velocity_24h</th>\n",
       "      <th>...</th>\n",
       "      <th>BE</th>\n",
       "      <th>BF</th>\n",
       "      <th>BG</th>\n",
       "      <th>INTERNET</th>\n",
       "      <th>TELEAPP</th>\n",
       "      <th>linux</th>\n",
       "      <th>macintosh</th>\n",
       "      <th>other</th>\n",
       "      <th>windows</th>\n",
       "      <th>x11</th>\n",
       "    </tr>\n",
       "  </thead>\n",
       "  <tbody>\n",
       "    <tr>\n",
       "      <th>756697</th>\n",
       "      <td>0.000</td>\n",
       "      <td>0.856809</td>\n",
       "      <td>0.000000</td>\n",
       "      <td>0.256410</td>\n",
       "      <td>0.375</td>\n",
       "      <td>0.896374</td>\n",
       "      <td>0.109941</td>\n",
       "      <td>0.311138</td>\n",
       "      <td>0.339694</td>\n",
       "      <td>0.410508</td>\n",
       "      <td>...</td>\n",
       "      <td>0</td>\n",
       "      <td>0</td>\n",
       "      <td>0</td>\n",
       "      <td>1</td>\n",
       "      <td>0</td>\n",
       "      <td>1</td>\n",
       "      <td>0</td>\n",
       "      <td>0</td>\n",
       "      <td>0</td>\n",
       "      <td>0</td>\n",
       "    </tr>\n",
       "    <tr>\n",
       "      <th>202654</th>\n",
       "      <td>0.625</td>\n",
       "      <td>0.750462</td>\n",
       "      <td>0.081152</td>\n",
       "      <td>0.613054</td>\n",
       "      <td>0.500</td>\n",
       "      <td>0.000032</td>\n",
       "      <td>0.116860</td>\n",
       "      <td>0.181696</td>\n",
       "      <td>0.546682</td>\n",
       "      <td>0.537086</td>\n",
       "      <td>...</td>\n",
       "      <td>0</td>\n",
       "      <td>0</td>\n",
       "      <td>0</td>\n",
       "      <td>1</td>\n",
       "      <td>0</td>\n",
       "      <td>1</td>\n",
       "      <td>0</td>\n",
       "      <td>0</td>\n",
       "      <td>0</td>\n",
       "      <td>0</td>\n",
       "    </tr>\n",
       "    <tr>\n",
       "      <th>429390</th>\n",
       "      <td>0.000</td>\n",
       "      <td>0.352651</td>\n",
       "      <td>0.000000</td>\n",
       "      <td>0.855478</td>\n",
       "      <td>0.250</td>\n",
       "      <td>0.000027</td>\n",
       "      <td>0.117303</td>\n",
       "      <td>0.282472</td>\n",
       "      <td>0.078840</td>\n",
       "      <td>0.489674</td>\n",
       "      <td>...</td>\n",
       "      <td>1</td>\n",
       "      <td>0</td>\n",
       "      <td>0</td>\n",
       "      <td>1</td>\n",
       "      <td>0</td>\n",
       "      <td>1</td>\n",
       "      <td>0</td>\n",
       "      <td>0</td>\n",
       "      <td>0</td>\n",
       "      <td>0</td>\n",
       "    </tr>\n",
       "    <tr>\n",
       "      <th>145829</th>\n",
       "      <td>0.750</td>\n",
       "      <td>0.044935</td>\n",
       "      <td>0.031414</td>\n",
       "      <td>0.023310</td>\n",
       "      <td>0.250</td>\n",
       "      <td>0.000123</td>\n",
       "      <td>0.110640</td>\n",
       "      <td>0.107196</td>\n",
       "      <td>0.370158</td>\n",
       "      <td>0.537888</td>\n",
       "      <td>...</td>\n",
       "      <td>0</td>\n",
       "      <td>0</td>\n",
       "      <td>0</td>\n",
       "      <td>1</td>\n",
       "      <td>0</td>\n",
       "      <td>0</td>\n",
       "      <td>0</td>\n",
       "      <td>0</td>\n",
       "      <td>1</td>\n",
       "      <td>0</td>\n",
       "    </tr>\n",
       "    <tr>\n",
       "      <th>393932</th>\n",
       "      <td>0.250</td>\n",
       "      <td>0.612206</td>\n",
       "      <td>0.138743</td>\n",
       "      <td>0.839161</td>\n",
       "      <td>0.250</td>\n",
       "      <td>0.000167</td>\n",
       "      <td>0.116558</td>\n",
       "      <td>0.149149</td>\n",
       "      <td>0.812603</td>\n",
       "      <td>0.453327</td>\n",
       "      <td>...</td>\n",
       "      <td>0</td>\n",
       "      <td>0</td>\n",
       "      <td>0</td>\n",
       "      <td>1</td>\n",
       "      <td>0</td>\n",
       "      <td>1</td>\n",
       "      <td>0</td>\n",
       "      <td>0</td>\n",
       "      <td>0</td>\n",
       "      <td>0</td>\n",
       "    </tr>\n",
       "    <tr>\n",
       "      <th>...</th>\n",
       "      <td>...</td>\n",
       "      <td>...</td>\n",
       "      <td>...</td>\n",
       "      <td>...</td>\n",
       "      <td>...</td>\n",
       "      <td>...</td>\n",
       "      <td>...</td>\n",
       "      <td>...</td>\n",
       "      <td>...</td>\n",
       "      <td>...</td>\n",
       "      <td>...</td>\n",
       "      <td>...</td>\n",
       "      <td>...</td>\n",
       "      <td>...</td>\n",
       "      <td>...</td>\n",
       "      <td>...</td>\n",
       "      <td>...</td>\n",
       "      <td>...</td>\n",
       "      <td>...</td>\n",
       "      <td>...</td>\n",
       "      <td>...</td>\n",
       "    </tr>\n",
       "    <tr>\n",
       "      <th>231718</th>\n",
       "      <td>0.875</td>\n",
       "      <td>0.651862</td>\n",
       "      <td>0.000000</td>\n",
       "      <td>0.687646</td>\n",
       "      <td>0.375</td>\n",
       "      <td>0.000221</td>\n",
       "      <td>0.871455</td>\n",
       "      <td>0.417737</td>\n",
       "      <td>0.167905</td>\n",
       "      <td>0.230438</td>\n",
       "      <td>...</td>\n",
       "      <td>0</td>\n",
       "      <td>0</td>\n",
       "      <td>0</td>\n",
       "      <td>1</td>\n",
       "      <td>0</td>\n",
       "      <td>0</td>\n",
       "      <td>0</td>\n",
       "      <td>1</td>\n",
       "      <td>0</td>\n",
       "      <td>0</td>\n",
       "    </tr>\n",
       "    <tr>\n",
       "      <th>274406</th>\n",
       "      <td>0.750</td>\n",
       "      <td>0.303719</td>\n",
       "      <td>0.000000</td>\n",
       "      <td>0.193473</td>\n",
       "      <td>0.125</td>\n",
       "      <td>0.000067</td>\n",
       "      <td>0.111391</td>\n",
       "      <td>0.304419</td>\n",
       "      <td>0.439302</td>\n",
       "      <td>0.440047</td>\n",
       "      <td>...</td>\n",
       "      <td>0</td>\n",
       "      <td>0</td>\n",
       "      <td>0</td>\n",
       "      <td>1</td>\n",
       "      <td>0</td>\n",
       "      <td>1</td>\n",
       "      <td>0</td>\n",
       "      <td>0</td>\n",
       "      <td>0</td>\n",
       "      <td>0</td>\n",
       "    </tr>\n",
       "    <tr>\n",
       "      <th>441854</th>\n",
       "      <td>1.000</td>\n",
       "      <td>0.409643</td>\n",
       "      <td>0.081152</td>\n",
       "      <td>0.326340</td>\n",
       "      <td>0.125</td>\n",
       "      <td>0.000174</td>\n",
       "      <td>0.112095</td>\n",
       "      <td>0.302180</td>\n",
       "      <td>0.485899</td>\n",
       "      <td>0.570523</td>\n",
       "      <td>...</td>\n",
       "      <td>1</td>\n",
       "      <td>0</td>\n",
       "      <td>0</td>\n",
       "      <td>1</td>\n",
       "      <td>0</td>\n",
       "      <td>0</td>\n",
       "      <td>0</td>\n",
       "      <td>1</td>\n",
       "      <td>0</td>\n",
       "      <td>0</td>\n",
       "    </tr>\n",
       "    <tr>\n",
       "      <th>668183</th>\n",
       "      <td>0.875</td>\n",
       "      <td>0.782727</td>\n",
       "      <td>0.000000</td>\n",
       "      <td>0.342657</td>\n",
       "      <td>0.250</td>\n",
       "      <td>0.000263</td>\n",
       "      <td>0.111244</td>\n",
       "      <td>0.516124</td>\n",
       "      <td>0.085169</td>\n",
       "      <td>0.696219</td>\n",
       "      <td>...</td>\n",
       "      <td>0</td>\n",
       "      <td>0</td>\n",
       "      <td>0</td>\n",
       "      <td>1</td>\n",
       "      <td>0</td>\n",
       "      <td>0</td>\n",
       "      <td>0</td>\n",
       "      <td>0</td>\n",
       "      <td>1</td>\n",
       "      <td>0</td>\n",
       "    </tr>\n",
       "    <tr>\n",
       "      <th>706688</th>\n",
       "      <td>0.625</td>\n",
       "      <td>0.835285</td>\n",
       "      <td>0.000000</td>\n",
       "      <td>0.060606</td>\n",
       "      <td>0.125</td>\n",
       "      <td>0.000014</td>\n",
       "      <td>0.111665</td>\n",
       "      <td>0.234697</td>\n",
       "      <td>0.451175</td>\n",
       "      <td>0.543764</td>\n",
       "      <td>...</td>\n",
       "      <td>1</td>\n",
       "      <td>0</td>\n",
       "      <td>0</td>\n",
       "      <td>1</td>\n",
       "      <td>0</td>\n",
       "      <td>0</td>\n",
       "      <td>0</td>\n",
       "      <td>1</td>\n",
       "      <td>0</td>\n",
       "      <td>0</td>\n",
       "    </tr>\n",
       "  </tbody>\n",
       "</table>\n",
       "<p>750000 rows × 51 columns</p>\n",
       "</div>"
      ],
      "text/plain": [
       "        income  name_email_similarity  prev_address_months_count  \\\n",
       "756697   0.000               0.856809                   0.000000   \n",
       "202654   0.625               0.750462                   0.081152   \n",
       "429390   0.000               0.352651                   0.000000   \n",
       "145829   0.750               0.044935                   0.031414   \n",
       "393932   0.250               0.612206                   0.138743   \n",
       "...        ...                    ...                        ...   \n",
       "231718   0.875               0.651862                   0.000000   \n",
       "274406   0.750               0.303719                   0.000000   \n",
       "441854   1.000               0.409643                   0.081152   \n",
       "668183   0.875               0.782727                   0.000000   \n",
       "706688   0.625               0.835285                   0.000000   \n",
       "\n",
       "        current_address_months_count  customer_age  days_since_request  \\\n",
       "756697                      0.256410         0.375            0.896374   \n",
       "202654                      0.613054         0.500            0.000032   \n",
       "429390                      0.855478         0.250            0.000027   \n",
       "145829                      0.023310         0.250            0.000123   \n",
       "393932                      0.839161         0.250            0.000167   \n",
       "...                              ...           ...                 ...   \n",
       "231718                      0.687646         0.375            0.000221   \n",
       "274406                      0.193473         0.125            0.000067   \n",
       "441854                      0.326340         0.125            0.000174   \n",
       "668183                      0.342657         0.250            0.000263   \n",
       "706688                      0.060606         0.125            0.000014   \n",
       "\n",
       "        intended_balcon_amount  zip_count_4w  velocity_6h  velocity_24h  ...  \\\n",
       "756697                0.109941      0.311138     0.339694      0.410508  ...   \n",
       "202654                0.116860      0.181696     0.546682      0.537086  ...   \n",
       "429390                0.117303      0.282472     0.078840      0.489674  ...   \n",
       "145829                0.110640      0.107196     0.370158      0.537888  ...   \n",
       "393932                0.116558      0.149149     0.812603      0.453327  ...   \n",
       "...                        ...           ...          ...           ...  ...   \n",
       "231718                0.871455      0.417737     0.167905      0.230438  ...   \n",
       "274406                0.111391      0.304419     0.439302      0.440047  ...   \n",
       "441854                0.112095      0.302180     0.485899      0.570523  ...   \n",
       "668183                0.111244      0.516124     0.085169      0.696219  ...   \n",
       "706688                0.111665      0.234697     0.451175      0.543764  ...   \n",
       "\n",
       "        BE  BF  BG  INTERNET  TELEAPP  linux  macintosh  other  windows  x11  \n",
       "756697   0   0   0         1        0      1          0      0        0    0  \n",
       "202654   0   0   0         1        0      1          0      0        0    0  \n",
       "429390   1   0   0         1        0      1          0      0        0    0  \n",
       "145829   0   0   0         1        0      0          0      0        1    0  \n",
       "393932   0   0   0         1        0      1          0      0        0    0  \n",
       "...     ..  ..  ..       ...      ...    ...        ...    ...      ...  ...  \n",
       "231718   0   0   0         1        0      0          0      1        0    0  \n",
       "274406   0   0   0         1        0      1          0      0        0    0  \n",
       "441854   1   0   0         1        0      0          0      1        0    0  \n",
       "668183   0   0   0         1        0      0          0      0        1    0  \n",
       "706688   1   0   0         1        0      0          0      1        0    0  \n",
       "\n",
       "[750000 rows x 51 columns]"
      ]
     },
     "execution_count": 136,
     "metadata": {},
     "output_type": "execute_result"
    }
   ],
   "source": [
    "X_train"
   ]
  },
  {
   "cell_type": "code",
   "execution_count": null,
   "id": "3e7c95d6",
   "metadata": {},
   "outputs": [],
   "source": []
  },
  {
   "cell_type": "code",
   "execution_count": 137,
   "id": "9d4e46b2",
   "metadata": {},
   "outputs": [
    {
     "name": "stdout",
     "output_type": "stream",
     "text": [
      "Before PCA : 51 components \n",
      "After PCA : 21 components, explained variance : 0.9\n",
      "Explained variances :  [0.08706069 0.08320431 0.07531517 0.07075482 0.06417383 0.05910908\n",
      " 0.05676818 0.05562192 0.05059644 0.04508894 0.04235527 0.03436214\n",
      " 0.03422471 0.03044945 0.0246358  0.01914326 0.01824357 0.01766836\n",
      " 0.01525895 0.01498543 0.0129228 ]\n"
     ]
    }
   ],
   "source": [
    "\n",
    "from sklearn.decomposition import PCA\n",
    "n_before = X_train.shape[1]\n",
    "pca = PCA(n_components=0.90)\n",
    "X_train = pca.fit_transform(X_train, y_train)\n",
    "print(f\"Before PCA : {n_before} components \\nAfter PCA : {pca.n_components_} components, explained variance : 0.9\")\n",
    "print(\"Explained variances : \", pca.explained_variance_ratio_)\n"
   ]
  },
  {
   "cell_type": "code",
   "execution_count": 138,
   "id": "1c17e88e",
   "metadata": {},
   "outputs": [],
   "source": [
    "X_test = pca.transform(X_test)"
   ]
  },
  {
   "cell_type": "code",
   "execution_count": 139,
   "id": "854e650d",
   "metadata": {},
   "outputs": [
    {
     "data": {
      "text/plain": [
       "(750000, 21)"
      ]
     },
     "execution_count": 139,
     "metadata": {},
     "output_type": "execute_result"
    }
   ],
   "source": [
    "X_train.shape"
   ]
  },
  {
   "cell_type": "code",
   "execution_count": 140,
   "id": "0c2ac534",
   "metadata": {},
   "outputs": [
    {
     "data": {
      "text/plain": [
       "(750000,)"
      ]
     },
     "execution_count": 140,
     "metadata": {},
     "output_type": "execute_result"
    }
   ],
   "source": [
    "y_train.shape"
   ]
  },
  {
   "cell_type": "code",
   "execution_count": 141,
   "id": "81b19f36",
   "metadata": {},
   "outputs": [],
   "source": [
    "smote = SMOTE()\n",
    "X_train, y_train = smote.fit_resample(X_train, y_train)"
   ]
  },
  {
   "cell_type": "code",
   "execution_count": 142,
   "id": "0f219744",
   "metadata": {},
   "outputs": [
    {
     "data": {
      "text/plain": [
       "(1483412, 21)"
      ]
     },
     "execution_count": 142,
     "metadata": {},
     "output_type": "execute_result"
    }
   ],
   "source": [
    "X_train.shape"
   ]
  },
  {
   "cell_type": "code",
   "execution_count": 143,
   "id": "a44d2b25",
   "metadata": {},
   "outputs": [
    {
     "data": {
      "text/plain": [
       "0          0\n",
       "1          0\n",
       "2          0\n",
       "3          0\n",
       "4          0\n",
       "          ..\n",
       "1483407    1\n",
       "1483408    1\n",
       "1483409    1\n",
       "1483410    1\n",
       "1483411    1\n",
       "Name: fraud_bool, Length: 1483412, dtype: int64"
      ]
     },
     "execution_count": 143,
     "metadata": {},
     "output_type": "execute_result"
    }
   ],
   "source": [
    "y_train"
   ]
  },
  {
   "cell_type": "code",
   "execution_count": 144,
   "id": "dc24f3ad",
   "metadata": {},
   "outputs": [],
   "source": [
    "# def score_classifier(estimator,parameters, X_train, y_train, scaler = StandardScaler()):\n",
    "\n",
    "#     # search for best parameters\n",
    "#     cv = StratifiedKFold(n_splits = 5, shuffle = True).split(X_train,y_train)\n",
    "#     clf = GridSearchCV(estimator, parameters, scoring ='recall', verbose =1, cv = cv)\n",
    "#     clf.fit(X_train,y_train)\n",
    "\n",
    "#     # evaluate best estimator\n",
    "#     best_estimator = clf.best_estimator_\n",
    "#     parameters = clf.best_params_\n",
    "#     score = clf.best_score_\n",
    "#     print(f'Average score of the best estimator : {score}')\n",
    "#     y_pred = clf.predict(X_test) # same as best_estimator.predict(X)\n",
    "#     cm = confusion_matrix(y_test, y_pred)\n",
    "#     f1 = f1_score(y_test, y_pred)\n",
    "#     disp = ConfusionMatrixDisplay(cm)\n",
    "#     disp.plot()\n",
    "#     title = str(estimator)+'\\n f1-score on test dataset : '+str(f1)\n",
    "#     plt.title(title)\n",
    "#     plt.show()\n",
    "#     return(best_estimator, parameters, y_pred, score, cm)\n"
   ]
  },
  {
   "cell_type": "code",
   "execution_count": 151,
   "id": "a402819d",
   "metadata": {},
   "outputs": [],
   "source": [
    "def score_classifier(estimator,parameters, X_train, y_train, X_test, y_test):\n",
    "\n",
    "    # search for best parameters\n",
    "    cv = StratifiedKFold(n_splits = 5, shuffle = True).split(X_train,y_train)\n",
    "    clf = GridSearchCV(estimator, parameters, scoring ='f1', verbose = 1, cv = cv)\n",
    "    clf.fit(X_train,y_train)\n",
    "\n",
    "    # evaluate best estimator\n",
    "    best_estimator = clf.best_estimator_\n",
    "    parameters = clf.best_params_\n",
    "    score = clf.best_score_\n",
    "    print(f'Average f1-score of the best estimator : {score}')\n",
    "    y_pred = clf.predict(X_train)\n",
    "    rc = recall_score(y_test, y_pred)\n",
    "    print(f'Recall score of the best estimator : {rc}')\n",
    "    y_pred = clf.predict(X_test) # same as best_estimator.predict(X)\n",
    "    cm = confusion_matrix(y_test, y_pred)\n",
    "    f1 = f1_score(y_test, y_pred)\n",
    "    rc = recall_score(y_test, y_pred)\n",
    "    disp = ConfusionMatrixDisplay(cm)\n",
    "    disp.plot()\n",
    "    title = str(estimator)+'\\n f1-score on test dataset : '+str(f1) +'\\n recall on test dataset : '+str(rc)\n",
    "    plt.title(title)\n",
    "    plt.show()\n",
    "    \n",
    "    save(estimator,cm, rc)\n",
    "    \n",
    "    return(best_estimator, parameters, y_pred, score, cm)\n"
   ]
  },
  {
   "cell_type": "code",
   "execution_count": 157,
   "id": "83333bae",
   "metadata": {},
   "outputs": [],
   "source": [
    "results_dict = {}\n",
    "\n",
    "def save(estimator,cm, rc)  : \n",
    "    results_dict[title] = {'cm' : cm, 'f1' : f1, 'rc' : rc}\n",
    "    title = str(estimator)\n",
    "    filename = f'../saved_models/{title}.sav'\n",
    "    joblib.dump(model, filename)\n",
    "    \n",
    "    "
   ]
  },
  {
   "cell_type": "code",
   "execution_count": 153,
   "id": "1a6fcabd",
   "metadata": {},
   "outputs": [
    {
     "name": "stdout",
     "output_type": "stream",
     "text": [
      "Fitting 5 folds for each of 12 candidates, totalling 60 fits\n",
      "Average score of the best estimator : 0.7936271502018335\n"
     ]
    },
    {
     "data": {
      "image/png": "[encoded data removed]",
      "text/plain": [
       "<Figure size 640x480 with 2 Axes>"
      ]
     },
     "metadata": {},
     "output_type": "display_data"
    },
    {
     "ename": "NameError",
     "evalue": "name 'joblib' is not defined",
     "output_type": "error",
     "traceback": [
      "\u001b[1;31m---------------------------------------------------------------------------\u001b[0m",
      "\u001b[1;31mNameError\u001b[0m                                 Traceback (most recent call last)",
      "Cell \u001b[1;32mIn[153], line 7\u001b[0m\n\u001b[0;32m      1\u001b[0m estimator \u001b[38;5;241m=\u001b[39m LogisticRegression()\n\u001b[0;32m      2\u001b[0m parameters \u001b[38;5;241m=\u001b[39m {\n\u001b[0;32m      3\u001b[0m     \u001b[38;5;124m'\u001b[39m\u001b[38;5;124mpenalty\u001b[39m\u001b[38;5;124m'\u001b[39m: [\u001b[38;5;124m'\u001b[39m\u001b[38;5;124ml1\u001b[39m\u001b[38;5;124m'\u001b[39m, \u001b[38;5;124m'\u001b[39m\u001b[38;5;124ml2\u001b[39m\u001b[38;5;124m'\u001b[39m],  \u001b[38;5;66;03m# Regularization penalty: L1 or L2\u001b[39;00m\n\u001b[0;32m      4\u001b[0m     \u001b[38;5;124m'\u001b[39m\u001b[38;5;124mC\u001b[39m\u001b[38;5;124m'\u001b[39m: [\u001b[38;5;241m0.1\u001b[39m, \u001b[38;5;241m1\u001b[39m, \u001b[38;5;241m10\u001b[39m],  \u001b[38;5;66;03m# Inverse of regularization strength\u001b[39;00m\n\u001b[0;32m      5\u001b[0m     \u001b[38;5;124m'\u001b[39m\u001b[38;5;124msolver\u001b[39m\u001b[38;5;124m'\u001b[39m: [\u001b[38;5;124m'\u001b[39m\u001b[38;5;124mliblinear\u001b[39m\u001b[38;5;124m'\u001b[39m, \u001b[38;5;124m'\u001b[39m\u001b[38;5;124msaga\u001b[39m\u001b[38;5;124m'\u001b[39m]  \u001b[38;5;66;03m# Solver algorithm: 'liblinear' for small datasets, 'saga' for large datasets\u001b[39;00m\n\u001b[0;32m      6\u001b[0m }\n\u001b[1;32m----> 7\u001b[0m best_estimator, parameters, y_pred, score, cm \u001b[38;5;241m=\u001b[39m \u001b[43mscore_classifier\u001b[49m\u001b[43m(\u001b[49m\u001b[43mestimator\u001b[49m\u001b[43m,\u001b[49m\u001b[43mparameters\u001b[49m\u001b[43m,\u001b[49m\u001b[43m \u001b[49m\u001b[43mX_train\u001b[49m\u001b[43m,\u001b[49m\u001b[43m \u001b[49m\u001b[43my_train\u001b[49m\u001b[43m,\u001b[49m\u001b[43m \u001b[49m\u001b[43mX_test\u001b[49m\u001b[43m,\u001b[49m\u001b[43m \u001b[49m\u001b[43my_test\u001b[49m\u001b[43m)\u001b[49m\n",
      "Cell \u001b[1;32mIn[151], line 23\u001b[0m, in \u001b[0;36mscore_classifier\u001b[1;34m(estimator, parameters, X_train, y_train, X_test, y_test)\u001b[0m\n\u001b[0;32m     20\u001b[0m plt\u001b[38;5;241m.\u001b[39mtitle(title)\n\u001b[0;32m     21\u001b[0m plt\u001b[38;5;241m.\u001b[39mshow()\n\u001b[1;32m---> 23\u001b[0m \u001b[43msave\u001b[49m\u001b[43m(\u001b[49m\u001b[43mestimator\u001b[49m\u001b[43m,\u001b[49m\u001b[43mcm\u001b[49m\u001b[43m,\u001b[49m\u001b[43m \u001b[49m\u001b[43mrc\u001b[49m\u001b[43m)\u001b[49m\n\u001b[0;32m     25\u001b[0m \u001b[38;5;28;01mreturn\u001b[39;00m(best_estimator, parameters, y_pred, score, cm)\n",
      "Cell \u001b[1;32mIn[152], line 6\u001b[0m, in \u001b[0;36msave\u001b[1;34m(estimator, cm, rc)\u001b[0m\n\u001b[0;32m      4\u001b[0m title \u001b[38;5;241m=\u001b[39m \u001b[38;5;28mstr\u001b[39m(estimator)\n\u001b[0;32m      5\u001b[0m filename \u001b[38;5;241m=\u001b[39m \u001b[38;5;124mf\u001b[39m\u001b[38;5;124m'\u001b[39m\u001b[38;5;124m../saved_models/\u001b[39m\u001b[38;5;132;01m{\u001b[39;00mtitle\u001b[38;5;132;01m}\u001b[39;00m\u001b[38;5;124m.sav\u001b[39m\u001b[38;5;124m'\u001b[39m\n\u001b[1;32m----> 6\u001b[0m \u001b[43mjoblib\u001b[49m\u001b[38;5;241m.\u001b[39mdump(model, filename)\n\u001b[0;32m      8\u001b[0m results_dict[title] \u001b[38;5;241m=\u001b[39m {\u001b[38;5;124m'\u001b[39m\u001b[38;5;124mcm\u001b[39m\u001b[38;5;124m'\u001b[39m : cm, \u001b[38;5;124m'\u001b[39m\u001b[38;5;124mf1\u001b[39m\u001b[38;5;124m'\u001b[39m : f1, \u001b[38;5;124m'\u001b[39m\u001b[38;5;124mrc\u001b[39m\u001b[38;5;124m'\u001b[39m : rc}\n",
      "\u001b[1;31mNameError\u001b[0m: name 'joblib' is not defined"
     ]
    }
   ],
   "source": [
    "estimator = LogisticRegression()\n",
    "parameters = {\n",
    "    'penalty': ['l1', 'l2'],  # Regularization penalty: L1 or L2\n",
    "    'C': [0.1, 1, 10],  # Inverse of regularization strength\n",
    "    'solver': ['liblinear', 'saga']  # Solver algorithm: 'liblinear' for small datasets, 'saga' for large datasets\n",
    "}\n",
    "best_estimator, parameters, y_pred, score, cm = score_classifier(estimator,parameters, X_train, y_train, X_test, y_test)\n",
    "\n",
    "# save(estimator,cm, rc)"
   ]
  },
  {
   "cell_type": "code",
   "execution_count": 156,
   "id": "6619befc",
   "metadata": {},
   "outputs": [
    {
     "name": "stdout",
     "output_type": "stream",
     "text": [
      "{}\n"
     ]
    }
   ],
   "source": [
    "print(results_dict)"
   ]
  },
  {
   "cell_type": "code",
   "execution_count": null,
   "id": "2809d8f3",
   "metadata": {},
   "outputs": [
    {
     "name": "stdout",
     "output_type": "stream",
     "text": [
      "Fitting 5 folds for each of 216 candidates, totalling 1080 fits\n"
     ]
    }
   ],
   "source": [
    "parameters = {\n",
    "    'n_estimators': [10, 50, 100],  # Number of trees in the random forest\n",
    "    'max_depth': [5, 10],  # Maximum depth of each tree\n",
    "    'min_samples_split': [2, 5, 10],  # Minimum number of samples required to split an internal node\n",
    "    'min_samples_leaf': [1, 2, 4],  # Minimum number of samples required to be at a leaf node\n",
    "    'max_features': [0.99, 'sqrt'],  # Number of features to consider when looking for the best split\n",
    "    'bootstrap': [True, False]  # Whether bootstrap samples are used when building trees\n",
    "}\n",
    "estimator = RandomForestClassifier()\n",
    "best_estimator, parameters, y_pred, score, cm = score_classifier(estimator,parameters, X_train, y_train, X_test, y_test)\n"
   ]
  },
  {
   "cell_type": "code",
   "execution_count": null,
   "id": "cc2b0985",
   "metadata": {},
   "outputs": [
    {
     "name": "stdout",
     "output_type": "stream",
     "text": [
      "---------------------------------------------------------------------------------------------------------------------------------------------------------------------------------------------------------------------------------------------------------------------------------------------------------------------------------------------------------------------------------------------------------------------------------------------------------------------------------------------------------------------------------------------------------------------------------------------------------------------------------------------------------------------------------------------------------------------------------------------------------------------------------------------------------------------------------------------------------------------------------------------------------------------------------------------------------------------------------------------------------------------------------------------------------------------------------------------------------------------------------------------------------------------------------------------------------------------------------------------------------------------------------------------------------------------------\n",
      "|\"FRAUD_BOOL\"          |\"INCOME\"             |\"NAME_EMAIL_SIMILARITY\"  |\"PREV_ADDRESS_MONTHS_COUNT\"  |\"CURRENT_ADDRESS_MONTHS_COUNT\"  |\"CUSTOMER_AGE\"        |\"DAYS_SINCE_REQUEST\"  |\"INTENDED_BALCON_AMOUNT\"  |\"ZIP_COUNT_4W\"        |\"VELOCITY_6H\"         |\"VELOCITY_24H\"         |\"VELOCITY_4W\"         |\"BANK_BRANCH_COUNT_8W\"  |\"DATE_OF_BIRTH_DISTINCT_EMAILS_4W\"  |\"CREDIT_RISK_SCORE\"   |\"EMAIL_IS_FREE\"      |\"PHONE_HOME_VALID\"   |\"PHONE_MOBILE_VALID\"  |\"BANK_MONTHS_COUNT\"  |\"HAS_OTHER_CARDS\"     |\"PROPOSED_CREDIT_LIMIT\"  |\"FOREIGN_REQUEST\"     |\"SESSION_LENGTH_IN_MINUTES\"  |\"KEEP_ALIVE_SESSION\"  |\"DEVICE_DISTINCT_EMAILS_8W\"  |\"DEVICE_FRAUD_COUNT\"  |\"MONTH\"               |\"PAYMENT_TYPE_AD\"    |\"PAYMENT_TYPE_AB\"    |\"PAYMENT_TYPE_AA\"    |\"PAYMENT_TYPE_AC\"     |\"PAYMENT_TYPE_AE\"     |\"EMPLOYMENT_STATUS_CD\"  |\"EMPLOYMENT_STATUS_CC\"  |\"EMPLOYMENT_STATUS_CG\"  |\"EMPLOYMENT_STATUS_CA\"  |\"EMPLOYMENT_STATUS_CF\"  |\"EMPLOYMENT_STATUS_CE\"  |\"EMPLOYMENT_STATUS_CB\"  |\"HOUSING_STATUS_BG\"   |\"HOUSING_STATUS_BF\"  |\"HOUSING_STATUS_BB\"   |\"HOUSING_STATUS_BA\"  |\"HOUSING_STATUS_BE\"  |\"HOUSING_STATUS_BC\"  |\"HOUSING_STATUS_BD\"  |\"SOURCE_INTERNET\"     |\"SOURCE_TELEAPP\"     |\"DEVICE_OS_WINDOWS\"   |\"DEVICE_OS_X11\"     |\"DEVICE_OS_LINUX\"     |\"DEVICE_OS_MACINTOSH\"  |\"DEVICE_OS_OTHER\"  |\n",
      "---------------------------------------------------------------------------------------------------------------------------------------------------------------------------------------------------------------------------------------------------------------------------------------------------------------------------------------------------------------------------------------------------------------------------------------------------------------------------------------------------------------------------------------------------------------------------------------------------------------------------------------------------------------------------------------------------------------------------------------------------------------------------------------------------------------------------------------------------------------------------------------------------------------------------------------------------------------------------------------------------------------------------------------------------------------------------------------------------------------------------------------------------------------------------------------------------------------------------------------------------------------------------------------------------------------------------\n",
      "|0.42724126334300794   |-1.0596325258776427  |0.5616788952284193       |-0.9309120517165108          |-0.5471968557108825             |-0.1863922402246373   |-0.45802152771427934  |-0.8722990545093557       |0.20972618454911574   |0.5758559835038644    |0.10748025879347428    |0.5682450760197852    |1.0439989264134582      |-0.28877242983739826                |0.36259711886080526   |1.1822177486844532   |0.3521430019801636   |-0.1677441669891262   |-0.5357064595844461  |-0.6478202303431078   |-0.16092127952634275     |0.5706935548062814    |-0.5825545766357692          |-0.10130483423754358  |0.0                          |-0.07063043762589805  |2.723029125656912     |-0.7672669896466519  |-0.5900519555065364  |-0.5805388065219792  |-0.01700245703257463  |-0.16505932500532697  |-0.19808990171830512    |-0.021288619072213376   |0.60777487005148        |-0.21462131221128336    |-0.15238087107148982    |-0.4006002144015888     |-0.01587650843249365    |-0.04088753132525406  |-0.5942355489283642  |-0.45204833279152606  |-0.4511817365649587  |1.298899181473231    |-0.1639017493455623  |0.08424978868546684  |-0.08424978868546619  |-0.5981507445838986  |-0.08532657471633438  |-0.706118475698515  |4.192658129931239     |-0.7221081182022484    |1.0                |\n",
      "|0.7570509612849458    |-0.6910201057820653  |-0.4022722681625166      |0.7246292985690033           |-0.30676397878581374            |3.1105942460042013    |-0.4886239795779509   |-0.5125492878440457       |-0.7352060436625447   |0.04289396773733631   |-0.29907707449009646   |-0.39765963062833865  |0.3320479906023436      |0.3185628190264549                  |-1.0616702072640622   |-0.8458678624244808  |0.3521430019801636   |-0.9770926399944633   |-0.5357064595844461  |1.172473570260066     |-0.16092127952634275     |2.07601353048761      |-1.1678056448257201          |-0.10130483423754358  |0.0                          |0.6951706692322766    |-0.36723808444713457  |-0.7672669896466519  |-0.5900519555065364  |1.7225377335083267   |-0.01700245703257463  |-0.16505932500532697  |-0.19808990171830512    |-0.021288619072213376   |0.60777487005148        |-0.21462131221128336    |-0.15238087107148982    |-0.4006002144015888     |-0.01587650843249365    |-0.04088753132525406  |-0.5942355489283642  |2.2121528329165985    |-0.4511817365649587  |-0.7698826931785304  |-0.1639017493455623  |0.08424978868546684  |-0.08424978868546619  |-0.5981507445838986  |-0.08532657471633438  |-0.706118475698515  |-0.23851217270996547  |1.384834174818014      |1.0                |\n",
      "|0.5246073782830194    |0.04528100204350205  |0.3957041436125142       |-0.42117422852258457         |1.5502922959577545              |0.9667925851311877    |-0.4786879309204919   |0.9597750683783712        |0.29072793866205615   |-0.9855137311763414   |-0.23035200787272347   |-0.4002794407946276   |-0.6661840228028646     |1.0018328445114497                  |-0.29355422774427653  |-0.8458678624244808  |0.3521430019801636   |-0.9770926399944633   |-0.5357064595844461  |-0.03251091376712992  |-0.16092127952634275     |-0.531683055319291    |-1.1678056448257201          |-0.10130483423754358  |0.0                          |0.6688114357319117    |-0.36723808444713457  |-0.7672669896466519  |-0.5900519555065364  |1.7225377335083267   |-0.01700245703257463  |-0.16505932500532697  |-0.19808990171830512    |-0.021288619072213376   |0.60777487005148        |-0.21462131221128336    |-0.15238087107148982    |-0.4006002144015888     |-0.01587650843249365    |-0.04088753132525406  |-0.5942355489283642  |2.2121528329165985    |-0.4511817365649587  |-0.7698826931785304  |-0.1639017493455623  |0.08424978868546684  |-0.08424978868546619  |-0.5981507445838986  |-0.08532657471633438  |-0.706118475698515  |4.192658129931239     |-0.7221081182022484    |1.0                |\n",
      "|-0.3520601873790593   |-1.2594777413195977  |0.30520733029687225      |-0.855138022272906           |-0.30676397878581374            |-0.12524780634676408  |0.4961928943667656    |0.19156089973330587       |2.3945707887686996    |1.3599593990666732    |1.0662949400469486     |-0.3827962095256827   |0.8147404475048453      |-0.4748973425199385                 |-0.6657381081579739   |-0.8458678624244808  |0.3521430019801636   |1.3836473383814532    |-0.5357064595844461  |-0.15410347828571208  |-0.16092127952634275     |-0.40059131264444364  |0.8563068730064554           |-0.10130483423754358  |0.0                          |-0.13062212969308962  |-0.36723808444713457  |-0.7672669896466519  |1.6947660128361735   |-0.5805388065219792  |-0.01700245703257463  |-0.16505932500532697  |-0.19808990171830512    |-0.021288619072213376   |-1.6453460800629973     |4.659369517858285       |-0.15238087107148982    |-0.4006002144015888     |-0.01587650843249365    |-0.04088753132525406  |-0.5942355489283642  |-0.45204833279152606  |-0.4511817365649587  |1.298899181473231    |-0.1639017493455623  |0.08424978868546684  |-0.08424978868546619  |-0.5981507445838986  |-0.08532657471633438  |1.4161929398756603  |-0.23851217270996547  |-0.7221081182022484    |1.0                |\n",
      "|-0.972989392731831    |-1.5081336910881593  |0.12049523430497372      |-0.6050133639056053          |0.5247820402373953              |-0.19036641611589133  |-0.48962344430926963  |0.21998888796264018       |0.09852275110966413   |-0.5119703676259308   |-0.2804519208560257    |-0.374828695121064    |-0.6798796943461961     |-1.4036338590647564                 |0.9419120864067694    |1.1822177486844532   |0.3521430019801636   |-0.3956327371560591   |-0.5357064595844461  |-0.6478202303431078   |-0.16092127952634275     |-0.2217581296369628   |-0.43833383154177785         |-0.10130483423754358  |0.0                          |0.32186797919475507   |2.723029125656912     |-0.7672669896466519  |-0.5900519555065364  |-0.5805388065219792  |-0.01700245703257463  |-0.16505932500532697  |-0.19808990171830512    |-0.021288619072213376   |0.60777487005148        |-0.21462131221128336    |-0.15238087107148982    |-0.4006002144015888     |-0.01587650843249365    |-0.04088753132525406  |-0.5942355489283642  |-0.45204833279152606  |-0.4511817365649587  |1.298899181473231    |-0.1639017493455623  |0.08424978868546684  |-0.08424978868546619  |-0.5981507445838986  |-0.08532657471633438  |1.4161929398756603  |-0.23851217270996547  |-0.7221081182022484    |1.0                |\n",
      "|-0.6260370228724179   |1.246253100398453    |-0.4022722681625166      |-0.49670426474295754         |-0.6961083398732986             |-0.18667963590325912  |-0.4518648281642773   |-0.788863262731704        |-0.31938593297318973  |0.06849925150411629   |0.45196799957537226    |-0.38310424543185384  |0.6188311100986609      |-0.645465080859813                  |-0.12355800400704142  |-0.8458678624244808  |0.3521430019801636   |1.4005270237199792    |-0.5357064595844461  |-0.6478202303431078   |6.214218547996942        |-0.43725217505490016  |-0.09141793956648869         |-0.10130483423754358  |0.0                          |-0.4000110453170679   |-0.36723808444713457  |1.303327281759545    |-0.5900519555065364  |-0.5805388065219792  |-0.01700245703257463  |-0.16505932500532697  |-0.19808990171830512    |-0.021288619072213376   |0.60777487005148        |-0.21462131221128336    |-0.15238087107148982    |-0.4006002144015888     |-0.01587650843249365    |-0.04088753132525406  |1.6828343605551457   |-0.45204833279152606  |-0.4511817365649587  |-0.7698826931785304  |-0.1639017493455623  |0.08424978868546684  |-0.08424978868546619  |1.671819368369501    |-0.08532657471633438  |-0.706118475698515  |-0.23851217270996547  |-0.7221081182022484    |1.0                |\n",
      "|-0.13277587095804688  |-0.9230301606803064  |-0.2093010101731218      |-0.5137040525239998          |0.28106300835978404             |-0.17251862510613852  |-0.47945748982893     |-0.9140846724927607       |0.7412905359919072    |-0.11894881271343044  |-0.025731693670555777  |-0.400475861445903    |-0.8261792577889457     |-0.36802826022715684                |0.9419120864067694    |-0.8458678624244808  |-0.5833751491580972  |-0.9770926399944633   |0.1684165659482093   |-0.6478202303431078   |-0.16092127952634275     |0.005371050197636396  |0.8563068730064554           |-0.10130483423754358  |0.0                          |0.32186797919475507   |-0.36723808444713457  |-0.7672669896466519  |-0.5900519555065364  |1.7225377335083267   |-0.01700245703257463  |6.058427780240392     |-0.19808990171830512    |-0.021288619072213376   |-1.6453460800629973     |-0.21462131221128336    |-0.15238087107148982    |-0.4006002144015888     |-0.01587650843249365    |-0.04088753132525406  |1.6828343605551457   |-0.45204833279152606  |-0.4511817365649587  |-0.7698826931785304  |-0.1639017493455623  |0.08424978868546684  |-0.08424978868546619  |1.671819368369501    |-0.08532657471633438  |-0.706118475698515  |-0.23851217270996547  |-0.7221081182022484    |1.0                |\n",
      "|-0.5683021600178156   |-0.1783130207906495  |-0.3779207992137262      |-0.531017151480946           |0.5151916334237943              |-0.18880766914615807  |-0.4861317584953824   |0.029119584194354408      |0.6552798550266778    |-0.35648506833446725  |-0.8431255784743656    |-0.3968123493790958   |-0.49505662465088346    |-0.6349826023713449                 |0.9419120864067694    |-0.8458678624244808  |0.3521430019801636   |-0.40604844259436207  |1.8666939367796906   |-0.6478202303431078   |-0.16092127952634275     |-0.47311003263846657  |-1.1678056448257201          |-5.6334604828582835   |0.0                          |0.32186797919475507   |-0.36723808444713457  |1.2794466534426376   |-0.5900519555065364  |-0.5539769080383611  |-0.01700245703257463  |-0.16505932500532697  |-0.19808990171830512    |-0.021288619072213376   |0.60777487005148        |-0.21462131221128336    |-0.15238087107148982    |-0.4006002144015888     |-0.01587650843249365    |-0.04088753132525406  |-0.5942355489283642  |-0.45204833279152606  |-0.4511817365649587  |1.298899181473231    |-0.1639017493455623  |0.08424978868546684  |-0.08424978868546619  |-0.5981507445838986  |-0.08532657471633438  |1.4161929398756603  |-0.23851217270996547  |-0.7221081182022484    |1.0                |\n",
      "|-1.5936201905051777   |1.0759890408893322   |-0.35667824607071086     |-0.8995386085485283          |-0.30676397878581374            |-0.18569768830999647  |-0.49192441560456307  |-0.1694443785952593       |-0.20344597309481682  |-1.141519617966436    |-0.5232916987493454    |-0.3933576098208858   |-0.36102664544436436    |1.2612320298608586                  |0.9419120864067694    |-0.8458678624244808  |0.3521430019801636   |-0.574803486117667    |-0.5357064595844461  |1.8898023176905852    |-0.16092127952634275     |-0.6503499478987071   |-1.040777164323017           |-0.10130483423754358  |0.0                          |0.29347077772095276   |-0.36723808444713457  |1.303327281759545    |-0.5900519555065364  |-0.5805388065219792  |-0.01700245703257463  |-0.16505932500532697  |-0.19808990171830512    |-0.021288619072213376   |0.60777487005148        |-0.21462131221128336    |-0.15238087107148982    |-0.4006002144015888     |-0.01587650843249365    |-0.04088753132525406  |-0.5942355489283642  |-0.45204833279152606  |-0.4511817365649587  |1.298899181473231    |-0.1639017493455623  |0.08424978868546684  |-0.08424978868546619  |-0.5981507445838986  |-0.08532657471633438  |1.4161929398756603  |-0.23851217270996547  |-0.7221081182022484    |1.0                |\n",
      "|-0.9907992976989418   |0.479393169725074    |-0.35123960873675375     |0.5704191511218696           |0.5247820402373953              |-0.18982277745915824  |-0.483331347398963    |-0.360329048849396        |-0.9090344415519016   |-1.2798730869970019   |-0.6940818538868789    |-0.34785932686126003  |-0.5469634923756563     |-0.7622855527858693                 |-1.0616702072640622   |-0.8458678624244808  |0.3521430019801636   |1.6123233089972806    |-0.5357064595844461  |-0.6478202303431078   |-0.16092127952634275     |-0.31442694507296376  |0.8563068730064554           |-0.10130483423754358  |0.0                          |1.2833540338702154    |-0.36723808444713457  |1.303327281759545    |-0.5900519555065364  |-0.5805388065219792  |-0.01700245703257463  |-0.16505932500532697  |-0.19808990171830512    |-0.021288619072213376   |0.60777487005148        |-0.21462131221128336    |-0.15238087107148982    |-0.4006002144015888     |-0.01587650843249365    |-0.04088753132525406  |-0.5942355489283642  |-0.45204833279152606  |-0.4511817365649587  |1.298899181473231    |-0.1639017493455623  |0.08424978868546684  |-0.08424978868546619  |-0.5981507445838986  |-0.08532657471633438  |-0.706118475698515  |-0.23851217270996547  |1.384834174818014      |1.0                |\n",
      "---------------------------------------------------------------------------------------------------------------------------------------------------------------------------------------------------------------------------------------------------------------------------------------------------------------------------------------------------------------------------------------------------------------------------------------------------------------------------------------------------------------------------------------------------------------------------------------------------------------------------------------------------------------------------------------------------------------------------------------------------------------------------------------------------------------------------------------------------------------------------------------------------------------------------------------------------------------------------------------------------------------------------------------------------------------------------------------------------------------------------------------------------------------------------------------------------------------------------------------------------------------------------------------------------------------------------\n",
      "\n"
     ]
    },
    {
     "name": "stderr",
     "output_type": "stream",
     "text": [
      "c:\\Users\\maxellende.julienne\\Anaconda3\\envs\\env_stage\\lib\\site-packages\\sklearn\\utils\\validation.py:1143: DataConversionWarning: A column-vector y was passed when a 1d array was expected. Please change the shape of y to (n_samples, ), for example using ravel().\n",
      "  y = column_or_1d(y, warn=True)\n",
      "[Parallel(n_jobs=1)]: Using backend SequentialBackend with 1 concurrent workers.\n",
      "[Parallel(n_jobs=1)]: Done   1 out of   1 | elapsed:    3.2s finished\n",
      "c:\\Users\\maxellende.julienne\\Anaconda3\\envs\\env_stage\\lib\\site-packages\\snowflake\\snowpark\\session.py:1383: UserWarning: Pandas Dataframe has non-standard index of type <class 'pandas.core.indexes.numeric.Int64Index'> which will not be written. Consider changing the index to pd.RangeIndex(start=0,...,step=1) or call reset_index() to keep index as column(s)\n",
      "  success, nchunks, nrows, ci_output = write_pandas(\n"
     ]
    },
    {
     "name": "stdout",
     "output_type": "stream",
     "text": [
      "------------------------------------------------------------------------------------------------------------------------------------\n",
      "|\"ESTIMATOR\"         |\"PARAMETERS\"                                        |\"SCORE\"             |\"TP\"    |\"FP\"    |\"FN\"    |\"TN\"    |\n",
      "------------------------------------------------------------------------------------------------------------------------------------\n",
      "|LogisticRegression  |{'C': 1.0, 'class_weight': None, 'dual': False,...  |0.5674273162498402  |537584  |451387  |418460  |570511  |\n",
      "------------------------------------------------------------------------------------------------------------------------------------\n",
      "\n"
     ]
    }
   ],
   "source": [
    "# df_pred = pd.DataFrame(pd.concat(X_test, y_test)).copy()\n",
    "# session.write_pandas(df_pred, table_name='PREDICTIONS', auto_create_table=True, overwrite=True)\n",
    "# df_pred = session.table('PREDICTIONS')\n",
    "# df_pred.show()\n",
    "\n",
    "\n",
    "# # To have the correct data types, we initialize the table\n",
    "# estimator = LogisticRegression(verbose = 1)\n",
    "# estimator.fit(X_train,y_train)\n",
    "# y_pred = estimator.predict(X_test)\n",
    "# score = f1_score(y_test, y_pred)\n",
    "# cm = confusion_matrix(y_test,y_pred)\n",
    "# parameters = estimator.get_params()\n",
    "\n",
    "# df_score = pd.DataFrame(columns = ['estimator', 'parameters', 'score', 'tp', 'fp', 'fn', 'tn'])\n",
    "# name = str(estimator)[:-11]\n",
    "# row = [name, str(parameters), score, cm[0,0], cm[0,1], cm[1,0], cm[1,1]]\n",
    "# df_score.loc[0] = row\n",
    "\n",
    "# session.write_pandas(df_score, table_name='SCORES', auto_create_table=True, overwrite=True)\n",
    "# df_score = session.table('SCORES')\n",
    "\n",
    "# def uppercase_all_columns(df: snowflake.snowpark.DataFrame) -> snowflake.snowpark.DataFrame:\n",
    "#     return df.select([F.col(column).as_(column.upper()) for column in df.columns])\n",
    "# df_score = uppercase_all_columns(df_score)\n",
    "# df_score.write.save_as_table(table_name='SCORES', mode='overwrite')\n",
    "\n",
    "# df_score = session.table('SCORES')\n",
    "# df_score.show()\n"
   ]
  },
  {
   "cell_type": "code",
   "execution_count": null,
   "id": "ccae2f70",
   "metadata": {},
   "outputs": [],
   "source": [
    "from snowflake.snowpark.functions import lit\n",
    "from snowflake.snowpark import Row, Column"
   ]
  },
  {
   "cell_type": "code",
   "execution_count": null,
   "id": "bd924c94",
   "metadata": {},
   "outputs": [],
   "source": [
    "def save_results(df_pred, df_score, estimator, parameters, y_pred, score, cm):\n",
    "    name = str(estimator)[:-11]\n",
    "    session.sql(\"ALTER TABLE PREDICTIONS ADD COLUMN IF NOT EXISTS {} float(20)\".format(name)).collect()\n",
    "    df_pred = session.table('PREDICTIONS')\n",
    "\n",
    "\n",
    "    row = [name, str(parameters), float(str(score)), cm[0,0], cm[0,1], cm[1,0], cm[1,1]]\n",
    "    df_score =df_score.to_pandas()\n",
    "    df_score.loc[len(df_score)] = row\n",
    "    print(df_score)\n",
    "    session.write_pandas(df_score, table_name='SCORES', auto_create_table=True, overwrite=True)\n",
    "    \n",
    "\n"
   ]
  },
  {
   "cell_type": "code",
   "execution_count": null,
   "id": "78d541ba",
   "metadata": {},
   "outputs": [],
   "source": [
    "y = y.values.ravel()\n"
   ]
  },
  {
   "cell_type": "code",
   "execution_count": null,
   "id": "c787862e",
   "metadata": {},
   "outputs": [],
   "source": []
  },
  {
   "cell_type": "code",
   "execution_count": 18,
   "id": "62513125",
   "metadata": {},
   "outputs": [
    {
     "ename": "NameError",
     "evalue": "name 'X' is not defined",
     "output_type": "error",
     "traceback": [
      "\u001b[1;31m---------------------------------------------------------------------------\u001b[0m",
      "\u001b[1;31mNameError\u001b[0m                                 Traceback (most recent call last)",
      "Cell \u001b[1;32mIn[18], line 7\u001b[0m\n\u001b[0;32m      1\u001b[0m estimator \u001b[38;5;241m=\u001b[39m LogisticRegression(verbose \u001b[38;5;241m=\u001b[39m \u001b[38;5;241m1\u001b[39m)\n\u001b[0;32m      2\u001b[0m parameters \u001b[38;5;241m=\u001b[39m {\n\u001b[0;32m      3\u001b[0m     \u001b[38;5;124m'\u001b[39m\u001b[38;5;124mestimator__penalty\u001b[39m\u001b[38;5;124m'\u001b[39m: [\u001b[38;5;124m'\u001b[39m\u001b[38;5;124ml1\u001b[39m\u001b[38;5;124m'\u001b[39m, \u001b[38;5;124m'\u001b[39m\u001b[38;5;124ml2\u001b[39m\u001b[38;5;124m'\u001b[39m],  \u001b[38;5;66;03m# Regularization penalty: L1 or L2\u001b[39;00m\n\u001b[0;32m      4\u001b[0m     \u001b[38;5;124m'\u001b[39m\u001b[38;5;124mestimator__C\u001b[39m\u001b[38;5;124m'\u001b[39m: [\u001b[38;5;241m0.1\u001b[39m, \u001b[38;5;241m1\u001b[39m, \u001b[38;5;241m10\u001b[39m],  \u001b[38;5;66;03m# Inverse of regularization strength\u001b[39;00m\n\u001b[0;32m      5\u001b[0m     \u001b[38;5;124m'\u001b[39m\u001b[38;5;124mestimator__solver\u001b[39m\u001b[38;5;124m'\u001b[39m: [\u001b[38;5;124m'\u001b[39m\u001b[38;5;124mliblinear\u001b[39m\u001b[38;5;124m'\u001b[39m, \u001b[38;5;124m'\u001b[39m\u001b[38;5;124msaga\u001b[39m\u001b[38;5;124m'\u001b[39m]  \u001b[38;5;66;03m# Solver algorithm: 'liblinear' for small datasets, 'saga' for large datasets\u001b[39;00m\n\u001b[0;32m      6\u001b[0m }\n\u001b[1;32m----> 7\u001b[0m best_estimator, parameters, y_pred, score, cm \u001b[38;5;241m=\u001b[39m score_classifier(\u001b[43mX\u001b[49m, estimator, parameters, y)\n\u001b[0;32m      8\u001b[0m save_results(df_pred, df_score, estimator, parameters, y_pred, score, cm)\n",
      "\u001b[1;31mNameError\u001b[0m: name 'X' is not defined"
     ]
    }
   ],
   "source": [
    "estimator = LogisticRegression(verbose = 1)\n",
    "parameters = {\n",
    "    'estimator__penalty': ['l1', 'l2'],  # Regularization penalty: L1 or L2\n",
    "    'estimator__C': [0.1, 1, 10],  # Inverse of regularization strength\n",
    "    'estimator__solver': ['liblinear', 'saga']  # Solver algorithm: 'liblinear' for small datasets, 'saga' for large datasets\n",
    "}\n",
    "best_estimator, parameters, y_pred, score, cm = score_classifier(X, estimator, parameters, y)\n",
    "save_results(df_pred, df_score, estimator, parameters, y_pred, score, cm)"
   ]
  },
  {
   "cell_type": "code",
   "execution_count": null,
   "id": "b46fe091",
   "metadata": {},
   "outputs": [
    {
     "name": "stdout",
     "output_type": "stream",
     "text": [
      "Fitting 5 folds for each of 48 candidates, totalling 240 fits\n"
     ]
    }
   ],
   "source": [
    "estimator = KNeighborsClassifier(verbose = 1)\n",
    "parameters = {\n",
    "    'estimator__n_neighbors': [3, 5, 7],  # Number of neighbors to consider\n",
    "    'estimator__weights': ['uniform', 'distance'],  # Weight function used in prediction\n",
    "    'estimator__algorithm': ['auto', 'ball_tree', 'kd_tree', 'brute'],  # Algorithm used to compute nearest neighbors\n",
    "    'estimator__p': [1, 2]  # Parameter for the Minkowski metric (1: Manhattan distance, 2: Euclidean distance)\n",
    "}\n",
    "best_estimator, parameters, y_pred, score, cm = score_classifier(X, estimator, parameters, y)\n",
    "save_results(df_pred, df_score, estimator, parameters, y_pred, score, cm)"
   ]
  },
  {
   "cell_type": "code",
   "execution_count": null,
   "id": "e1f0d925",
   "metadata": {},
   "outputs": [
    {
     "name": "stdout",
     "output_type": "stream",
     "text": [
      "Fitting 5 folds for each of 12 candidates, totalling 60 fits\n"
     ]
    }
   ],
   "source": [
    "parameters = {\n",
    "    'estimator__C': [0.1, 1, 10],  # Regularization parameter\n",
    "    'estimator__kernel': ['linear', 'rbf'],  # Kernel type: linear or radial basis function (RBF)\n",
    "    'estimator__gamma': ['scale', 'auto'],  # Kernel coefficient for RBF\n",
    "}\n",
    "estimator = svm.SVC(verbose = 1)\n",
    "best_estimator, parameters, y_pred, score, cm = score_classifier(X, estimator, parameters, y)\n",
    "save_results(df_pred, df_score, estimator, parameters, y_pred, score, cm)"
   ]
  },
  {
   "cell_type": "code",
   "execution_count": null,
   "id": "e834ebac",
   "metadata": {},
   "outputs": [],
   "source": [
    "\n",
    "parameters = {\n",
    "    'estimator__criterion': ['gini', 'entropy'],  # Split criterion: Gini impurity or information gain\n",
    "    'estimator__max_depth': [None, 5, 10],  # Maximum depth of the tree\n",
    "    'estimator__min_samples_split': [2, 5, 10],  # Minimum number of samples required to split an internal node\n",
    "    'estimator__min_samples_leaf': [1, 2, 4],  # Minimum number of samples required to be at a leaf node\n",
    "    'estimator__max_features': ['auto', 'sqrt'],  # Number of features to consider when looking for the best split\n",
    "}\n",
    "estimator = DecisionTreeClassifier(verbose = 1)\n",
    "best_estimator, parameters, y_pred, score, cm = score_classifier(X, estimator, parameters, y)\n",
    "save_results(df_pred, df_score, estimator, parameters, y_pred, score, cm)"
   ]
  },
  {
   "cell_type": "code",
   "execution_count": null,
   "id": "2a4c9d8c",
   "metadata": {},
   "outputs": [],
   "source": [
    "parameters = {\n",
    "    'estimator__n_estimators': [100, 200, 300],  # Number of trees in the random forest\n",
    "    'estimator__max_depth': [None, 5, 10],  # Maximum depth of each tree\n",
    "    'estimator__min_samples_split': [2, 5, 10],  # Minimum number of samples required to split an internal node\n",
    "    'estimator__min_samples_leaf': [1, 2, 4],  # Minimum number of samples required to be at a leaf node\n",
    "    'estimator__max_features': ['auto', 'sqrt'],  # Number of features to consider when looking for the best split\n",
    "    'estimator__bootstrap': [True, False]  # Whether bootstrap samples are used when building trees\n",
    "}\n",
    "estimator = RandomForestClassifier(verbose = 1)\n",
    "best_estimator, parameters, y_pred, score, cm = score_classifier(X, estimator, parameters, y)\n",
    "save_results(df_pred, df_score, estimator, parameters, y_pred, score, cm)"
   ]
  },
  {
   "cell_type": "code",
   "execution_count": 42,
   "id": "4f639781",
   "metadata": {},
   "outputs": [
    {
     "name": "stdout",
     "output_type": "stream",
     "text": [
      "Snowflake snowpark version is: (1, 3, 0)\n"
     ]
    }
   ],
   "source": [
    "import matplotlib.pyplot as plt\n",
    "import numpy as np\n",
    "import pandas as pd\n",
    "import time\n",
    "from imblearn.over_sampling import SMOTE\n",
    "import opendatasets as od\n",
    "from sklearn import svm\n",
    "from sklearn.inspection import DecisionBoundaryDisplay\n",
    "from sklearn.metrics import f1_score, recall_score, confusion_matrix, ConfusionMatrixDisplay\n",
    "from sklearn.model_selection import GridSearchCV, train_test_split, StratifiedKFold, cross_val_score\n",
    "from sklearn.linear_model import LogisticRegression\n",
    "from sklearn.neighbors import KNeighborsClassifier\n",
    "from sklearn.tree import DecisionTreeClassifier\n",
    "from sklearn.ensemble import RandomForestClassifier\n",
    "from sklearn.preprocessing import StandardScaler\n",
    "from sklearn.pipeline import Pipeline\n",
    "from sklearn.decomposition import PCA\n",
    "from sklearn.compose import ColumnTransformer\n",
    "from sklearn.preprocessing import PolynomialFeatures\n",
    "from snowflake.snowpark import version\n",
    "from snowflake.snowpark.functions import udf, sproc, col\n",
    "from snowflake.snowpark.session import Session\n",
    "from snowflake.snowpark.types import IntegerType, FloatType, StringType, BooleanType, Variant\n",
    "\n",
    "print(f\"Snowflake snowpark version is: {version.VERSION}\")"
   ]
  },
  {
   "cell_type": "code",
   "execution_count": 43,
   "id": "528d3528",
   "metadata": {},
   "outputs": [
    {
     "name": "stdout",
     "output_type": "stream",
     "text": [
      "   FRAUD_BOOL  INCOME  NAME_EMAIL_SIMILARITY  PREV_ADDRESS_MONTHS_COUNT  \\\n",
      "0           0     0.8               0.700981                         -1   \n",
      "1           0     0.8               0.443663                         29   \n",
      "2           0     0.8               0.210539                         -1   \n",
      "3           0     0.1               0.540481                        207   \n",
      "4           0     0.1               0.865032                         -1   \n",
      "\n",
      "   CURRENT_ADDRESS_MONTHS_COUNT  CUSTOMER_AGE  DAYS_SINCE_REQUEST  \\\n",
      "0                           122            20            0.024834   \n",
      "1                             6            40            0.009049   \n",
      "2                            13            40            0.006500   \n",
      "3                            40            60            0.024999   \n",
      "4                            35            30            0.033188   \n",
      "\n",
      "   INTENDED_BALCON_AMOUNT  ZIP_COUNT_4W  VELOCITY_6H  ...  HOUSING_STATUS_BA  \\\n",
      "0               -0.392116          1703  7003.185343  ...                  0   \n",
      "1               29.101647          1254  1373.364096  ...                  1   \n",
      "2               -0.883536           716  1874.738027  ...                  0   \n",
      "3               38.225042          1070  2304.257064  ...                  0   \n",
      "4               -1.229481          1280  5265.698524  ...                  0   \n",
      "\n",
      "   HOUSING_STATUS_BC  HOUSING_STATUS_BD  SOURCE_INTERNET  SOURCE_TELEAPP  \\\n",
      "0                  0                  0                1               0   \n",
      "1                  0                  0                1               0   \n",
      "2                  0                  0                1               0   \n",
      "3                  0                  0                1               0   \n",
      "4                  0                  0                1               0   \n",
      "\n",
      "   DEVICE_OS_LINUX  DEVICE_OS_X11  DEVICE_OS_WINDOWS  DEVICE_OS_MACINTOSH  \\\n",
      "0                0              0                  1                    0   \n",
      "1                1              0                  0                    0   \n",
      "2                0              0                  0                    0   \n",
      "3                0              0                  1                    0   \n",
      "4                0              0                  1                    0   \n",
      "\n",
      "   DEVICE_OS_OTHER  \n",
      "0                0  \n",
      "1                0  \n",
      "2                1  \n",
      "3                0  \n",
      "4                0  \n",
      "\n",
      "[5 rows x 53 columns]\n",
      "Fitting 5 folds for each of 12 candidates, totalling 60 fits\n",
      "Average score of the best estimator (training dataset) : 0.6650088729125904\n"
     ]
    },
    {
     "data": {
      "image/png": "[encoded data removed]",
      "text/plain": [
       "<Figure size 640x480 with 2 Axes>"
      ]
     },
     "metadata": {},
     "output_type": "display_data"
    }
   ],
   "source": [
    "    table_name = 'CREDIT_RECORD'\n",
    "    target = 'FRAUD_BOOL'\n",
    "    clf = 'lr'\n",
    "\n",
    "\n",
    "    # Load features\n",
    "    df = session.table(table_name).to_pandas()\n",
    "    print(df.head(), flush=True)\n",
    "    X = df.drop(target, axis = 1)\n",
    "    y = df[target]\n",
    "\n",
    "    # Split dataset into training and test\n",
    "    X_train, X_test, y_train, y_test = train_test_split(X, y, test_size=1/3, random_state = 42)\n",
    "    X_train, y_train = SMOTE().fit_resample(X_train,y_train)\n",
    "\n",
    "    # Preprocess numeric columns\n",
    "    numeric_features = df.select_dtypes(include=['float64']).columns\n",
    "    numeric_transformer = Pipeline(steps=[('poly',PolynomialFeatures(degree = 2)),('scaler', StandardScaler())])\n",
    "    preprocessor = ColumnTransformer(transformers=[('num', numeric_transformer, numeric_features)])\n",
    "\n",
    "    \n",
    "    def score_classifier(estimator,param_grid, X_train, y_train, X_test, y_test):\n",
    "\n",
    "        pipeline = Pipeline(steps=[('preprocessor', preprocessor),('pca', PCA(n_components = 0.9)),('estimator', estimator)])\n",
    "\n",
    "        # search for best parameters\n",
    "        cv = StratifiedKFold(n_splits = 5, shuffle = True).split(X_train,y_train)\n",
    "        clf = GridSearchCV(pipeline, param_grid, scoring ='recall', verbose =1, cv = cv)\n",
    "        clf.fit(X_train,y_train)\n",
    "\n",
    "        # evaluate best estimator\n",
    "        best_estimator = clf.best_estimator_\n",
    "        parameters = clf.best_params_\n",
    "        train_score = clf.best_score_\n",
    "        print(f'Average score of the best estimator (training dataset) : {train_score}')\n",
    "        y_pred = clf.predict(X_test) # same as best_estimator.predict(X)\n",
    "        cm = confusion_matrix(y_test, y_pred)\n",
    "        test_score = recall_score(y_test, y_pred)\n",
    "        disp = ConfusionMatrixDisplay(cm)\n",
    "        disp.plot()\n",
    "        title = str(estimator)+'\\n Recall score on test dataset : '+str(test_score)\n",
    "        plt.title(title)\n",
    "        plt.show()\n",
    "        return(best_estimator, parameters, y_pred, train_score, test_score, cm)\n",
    "\n",
    "    # Create pipeline and train\n",
    "    if clf == 'lr' : \n",
    "\n",
    "        estimator = LogisticRegression()\n",
    "        param_grid = {\n",
    "                'estimator__penalty': ['l1', 'l2'],  # Regularization penalty: L1 or L2\n",
    "                'estimator__C': [0.1, 1, 10],  # Inverse of regularization strength\n",
    "                'estimator__solver': ['liblinear', 'saga']  # Solver algorithm: 'liblinear' for small datasets, 'saga' for large datasets\n",
    "        }   \n",
    "        best_estimator, parameters, y_pred, train_score, test_score, cm = score_classifier(estimator,param_grid, X_train, y_train, X_test, y_test)   \n",
    "    \n",
    "    if clf == 'svm' : \n",
    "        parameters = {\n",
    "            'estimator__C': [0.1, 1, 10],  # Regularization parameter\n",
    "            'estimator__kernel': ['linear', 'rbf'],  # Kernel type: linear or radial basis function (RBF)\n",
    "            'estimator__gamma': ['scale', 'auto'],  # Kernel coefficient for RBF\n",
    "        }\n",
    "        estimator = svm.SVC()\n",
    "        best_estimator, parameters, y_pred, score, cm = score_classifier(X, estimator, parameters, y)\n",
    "\n",
    "\n",
    "    if clf == 'dt' : \n",
    "        parameters = {\n",
    "            'estimator__criterion': ['gini', 'entropy'],  # Split criterion: Gini impurity or information gain\n",
    "            'estimator__max_depth': [5, 10],  # Maximum depth of the tree\n",
    "            'estimator__min_samples_split': [2, 5, 10],  # Minimum number of samples required to split an internal node\n",
    "            'estimator__min_samples_leaf': [1, 2, 4],  # Minimum number of samples required to be at a leaf node\n",
    "            'estimator__max_features': [0.99, 'sqrt'],  # Number of features to consider when looking for the best split\n",
    "        }\n",
    "        estimator = DecisionTreeClassifier(verbose = 1)\n",
    "        best_estimator, parameters, y_pred, score, cm = score_classifier(X, estimator, parameters, y)\n",
    "\n",
    "    \n",
    "    if clf == 'rf' : \n",
    "        parameters = {\n",
    "        'estimator__n_estimators': [10, 100],  # Number of trees in the random forest\n",
    "        'estimator__max_depth': [5, 10],  # Maximum depth of each tree\n",
    "        'estimator__min_samples_split': [2, 5, 10],  # Minimum number of samples required to split an internal node\n",
    "        'estimator__min_samples_leaf': [1, 2, 4],  # Minimum number of samples required to be at a leaf node\n",
    "        'estimator__max_features': [0.99, 'sqrt'],  # Number of features to consider when looking for the best split\n",
    "        'estimator__bootstrap': [True, False]  # Whether bootstrap samples are used when building trees\n",
    "        }\n",
    "        estimator = RandomForestClassifier(verbose = 1)\n",
    "        best_estimator, parameters, y_pred, score, cm = score_classifier(X, estimator, parameters, y)\n",
    "\n",
    "\n",
    "    if clf == 'lgb' : \n",
    "        estimator = lgb.LGBMClassifier()\n",
    "        param_grid = {\n",
    "            'estimator__boosting_type': ['gbdt', 'dart'],  # Boosting type: Gradient Boosting Decision Tree (gbdt) or Dart\n",
    "            'estimator__num_leaves': [31, 63, 127],  # Maximum number of leaves in one tree\n",
    "            'estimator__learning_rate': [1.0, 0.1, 0.01],  # Learning rate\n",
    "            'estimator__subsample': [0.8, 1.0],  # Subsample ratio of the training instances\n",
    "            'estimator__colsample_bytree': [0.8, 1.0],  # Subsample ratio of columns when constructing each tree\n",
    "            'estimator__reg_alpha': [0.0, 0.1, 0.5],  # L1 regularization term\n",
    "            'estimator__reg_lambda': [0.0, 0.1, 0.5]  # L2 regularization term\n",
    "        }\n",
    "\n",
    "        best_estimator, parameters, y_pred, score, cm = score_classifier(estimator,param_grid, X_train, y_train, X_test, y_test)\n",
    "\n",
    "\n",
    "    # # Upload trained model to a stage\n",
    "    # model_file = os.path.join('/tmp', str(estimator)+'.joblib')\n",
    "    # dump(best_estimator, model_file)\n",
    "    # session.file.put(model_file, \"@ml_models\",overwrite=True)\n",
    "\n",
    "    # return {\"Classifier tested\" : str(estimator), \"Recall score on Train\": train_score,\"R2 score on Test\": test_score}\n"
   ]
  },
  {
   "cell_type": "code",
   "execution_count": null,
   "id": "a6395cae",
   "metadata": {},
   "outputs": [],
   "source": [
    "\n",
    "# estimator = LogisticRegression()\n",
    "# parameters = {\n",
    "#     'estimator__penalty': ['l1', 'l2'],  # Regularization penalty: L1 or L2\n",
    "#     'estimator__C': [0.1, 1, 10],  # Inverse of regularization strength\n",
    "#     'estimator__solver': ['liblinear', 'saga']  # Solver algorithm: 'liblinear' for small datasets, 'saga' for large datasets\n",
    "# }\n",
    "# best_estimator, parameters, y_pred, score, cm = score_classifier(X, estimator, parameters, y)\n",
    "# save_results(df_pred, df_score, estimator, parameters, y_pred, score, cm)"
   ]
  },
  {
   "cell_type": "code",
   "execution_count": 13,
   "id": "d5a61e04",
   "metadata": {},
   "outputs": [],
   "source": [
    "import matplotlib.pyplot as plt\n",
    "from sklearn import svm\n",
    "import numpy as np"
   ]
  },
  {
   "cell_type": "code",
   "execution_count": 14,
   "id": "cae57ca3",
   "metadata": {},
   "outputs": [],
   "source": [
    "import opendatasets as od\n",
    "import pandas as pd"
   ]
  },
  {
   "cell_type": "code",
   "execution_count": 16,
   "id": "278a87a2",
   "metadata": {},
   "outputs": [],
   "source": [
    "import time\n",
    "from sklearn.metrics import recall_score, f1_score\n",
    "from sklearn.metrics import confusion_matrix, ConfusionMatrixDisplay\n",
    "from sklearn.model_selection import GridSearchCV, train_test_split\n",
    "\n",
    "from sklearn.linear_model import LogisticRegression\n",
    "from sklearn.neighbors import KNeighborsClassifier\n",
    "from sklearn.tree import DecisionTreeClassifier\n",
    "from sklearn.ensemble import RandomForestClassifier\n",
    "from sklearn.preprocessing import StandardScaler\n",
    "from sklearn.model_selection import StratifiedKFold, cross_val_score, train_test_split\n",
    "from sklearn.pipeline import Pipeline\n"
   ]
  },
  {
   "cell_type": "code",
   "execution_count": 17,
   "id": "f6a35f49",
   "metadata": {},
   "outputs": [],
   "source": [
    "# from snowflake.snowpark.session import Session\n",
    "# from snowflake.snowpark.functions import udf, sproc, col\n",
    "# from snowflake.snowpark.types import IntegerType, FloatType, StringType, BooleanType, Variant\n",
    "# from snowflake.snowpark import functions as fn\n",
    "\n",
    "import numpy as np\n",
    "import pandas as pd\n",
    "from imblearn.over_sampling import SMOTE\n",
    "\n",
    "# from snowflake.snowpark import version\n",
    "# print(f\"Snowflake snowpark version is : {version.VERSION}\")"
   ]
  },
  {
   "cell_type": "code",
   "execution_count": null,
   "id": "f2845b38",
   "metadata": {},
   "outputs": [],
   "source": []
  }
 ],
 "metadata": {
  "kernelspec": {
   "display_name": "Python 3 (ipykernel)",
   "language": "python",
   "name": "python3"
  },
  "language_info": {
   "codemirror_mode": {
    "name": "ipython",
    "version": 3
   },
   "file_extension": ".py",
   "mimetype": "text/x-python",
   "name": "python",
   "nbconvert_exporter": "python",
   "pygments_lexer": "ipython3",
   "version": "3.9.16"
  }
 },
 "nbformat": 4,
 "nbformat_minor": 5
}
