{
 "cells": [
  {
   "cell_type": "code",
   "execution_count": 1,
   "metadata": {},
   "outputs": [
    {
     "name": "stdout",
     "output_type": "stream",
     "text": [
      "Collecting snowflake-ml-python\n",
      "  Downloading snowflake_ml_python-1.0.2-py3-none-any.whl (1.9 MB)\n",
      "                                              0.0/1.9 MB ? eta -:--:--\n",
      "     -----------                              0.5/1.9 MB 10.7 MB/s eta 0:00:01\n",
      "     ----------------------------------       1.6/1.9 MB 16.8 MB/s eta 0:00:01\n",
      "     ---------------------------------------- 1.9/1.9 MB 16.9 MB/s eta 0:00:00\n",
      "Collecting absl-py<2,>=0.15 (from snowflake-ml-python)\n",
      "  Downloading absl_py-1.4.0-py3-none-any.whl (126 kB)\n",
      "                                              0.0/126.5 kB ? eta -:--:--\n",
      "     -------------------------------------- 126.5/126.5 kB 7.8 MB/s eta 0:00:00\n",
      "Requirement already satisfied: anyio<4,>=3.5.0 in c:\\users\\maxellende.julienne\\anaconda3\\envs\\env_stage\\lib\\site-packages (from snowflake-ml-python) (3.5.0)\n",
      "Requirement already satisfied: cloudpickle in c:\\users\\maxellende.julienne\\anaconda3\\envs\\env_stage\\lib\\site-packages (from snowflake-ml-python) (2.0.0)\n",
      "Requirement already satisfied: cryptography<39.0.0,>=3.1.0 in c:\\users\\maxellende.julienne\\anaconda3\\envs\\env_stage\\lib\\site-packages (from snowflake-ml-python) (38.0.4)\n",
      "Collecting fsspec[http]<=2023.1,>=2022.11 (from snowflake-ml-python)\n",
      "  Downloading fsspec-2023.1.0-py3-none-any.whl (143 kB)\n",
      "                                              0.0/143.0 kB ? eta -:--:--\n",
      "     -------------------------------------- 143.0/143.0 kB 8.3 MB/s eta 0:00:00\n",
      "Requirement already satisfied: numpy<2,>=1.23 in c:\\users\\maxellende.julienne\\anaconda3\\envs\\env_stage\\lib\\site-packages (from snowflake-ml-python) (1.24.3)\n",
      "Requirement already satisfied: packaging<24,>=20.9 in c:\\users\\maxellende.julienne\\anaconda3\\envs\\env_stage\\lib\\site-packages (from snowflake-ml-python) (22.0)\n",
      "Requirement already satisfied: pandas<2,>=1.0.0 in c:\\users\\maxellende.julienne\\anaconda3\\envs\\env_stage\\lib\\site-packages (from snowflake-ml-python) (1.5.3)\n",
      "Collecting pyyaml<7,>=6.0 (from snowflake-ml-python)\n",
      "  Downloading PyYAML-6.0-cp38-cp38-win_amd64.whl (155 kB)\n",
      "                                              0.0/155.4 kB ? eta -:--:--\n",
      "     -------------------------------------- 155.4/155.4 kB 9.1 MB/s eta 0:00:00\n",
      "Requirement already satisfied: scikit-learn<2,>=1.2.1 in c:\\users\\maxellende.julienne\\anaconda3\\envs\\env_stage\\lib\\site-packages (from snowflake-ml-python) (1.2.2)\n",
      "Requirement already satisfied: scipy<2,>=1.9 in c:\\users\\maxellende.julienne\\anaconda3\\envs\\env_stage\\lib\\site-packages (from snowflake-ml-python) (1.10.1)\n",
      "Requirement already satisfied: snowflake-connector-python[pandas]<4,>=3.0.3 in c:\\users\\maxellende.julienne\\anaconda3\\envs\\env_stage\\lib\\site-packages (from snowflake-ml-python) (3.0.3)\n",
      "Collecting snowflake-snowpark-python<2,>=1.4.0 (from snowflake-ml-python)\n",
      "  Downloading snowflake_snowpark_python-1.5.1-py3-none-any.whl (291 kB)\n",
      "                                              0.0/291.7 kB ? eta -:--:--\n",
      "     ------------------------------------- 291.7/291.7 kB 17.6 MB/s eta 0:00:00\n",
      "Collecting sqlparse<1,>=0.4 (from snowflake-ml-python)\n",
      "  Downloading sqlparse-0.4.4-py3-none-any.whl (41 kB)\n",
      "                                              0.0/41.2 kB ? eta -:--:--\n",
      "     ---------------------------------------- 41.2/41.2 kB 2.1 MB/s eta 0:00:00\n",
      "Requirement already satisfied: typing-extensions<5,>=4.1.0 in c:\\users\\maxellende.julienne\\anaconda3\\envs\\env_stage\\lib\\site-packages (from snowflake-ml-python) (4.4.0)\n",
      "Requirement already satisfied: xgboost<2,>=1.7.3 in c:\\users\\maxellende.julienne\\anaconda3\\envs\\env_stage\\lib\\site-packages (from snowflake-ml-python) (1.7.6)\n",
      "Requirement already satisfied: idna>=2.8 in c:\\users\\maxellende.julienne\\anaconda3\\envs\\env_stage\\lib\\site-packages (from anyio<4,>=3.5.0->snowflake-ml-python) (3.4)\n",
      "Requirement already satisfied: sniffio>=1.1 in c:\\users\\maxellende.julienne\\anaconda3\\envs\\env_stage\\lib\\site-packages (from anyio<4,>=3.5.0->snowflake-ml-python) (1.2.0)\n",
      "Requirement already satisfied: cffi>=1.12 in c:\\users\\maxellende.julienne\\anaconda3\\envs\\env_stage\\lib\\site-packages (from cryptography<39.0.0,>=3.1.0->snowflake-ml-python) (1.15.1)\n",
      "Requirement already satisfied: requests in c:\\users\\maxellende.julienne\\anaconda3\\envs\\env_stage\\lib\\site-packages (from fsspec[http]<=2023.1,>=2022.11->snowflake-ml-python) (2.28.1)\n",
      "Collecting aiohttp!=4.0.0a0,!=4.0.0a1 (from fsspec[http]<=2023.1,>=2022.11->snowflake-ml-python)\n",
      "  Downloading aiohttp-3.8.4-cp38-cp38-win_amd64.whl (324 kB)\n",
      "                                              0.0/324.5 kB ? eta -:--:--\n",
      "     ------------------------------------- 324.5/324.5 kB 19.6 MB/s eta 0:00:00\n",
      "Requirement already satisfied: python-dateutil>=2.8.1 in c:\\users\\maxellende.julienne\\anaconda3\\envs\\env_stage\\lib\\site-packages (from pandas<2,>=1.0.0->snowflake-ml-python) (2.8.2)\n",
      "Requirement already satisfied: pytz>=2020.1 in c:\\users\\maxellende.julienne\\anaconda3\\envs\\env_stage\\lib\\site-packages (from pandas<2,>=1.0.0->snowflake-ml-python) (2022.7)\n",
      "Requirement already satisfied: joblib>=1.1.1 in c:\\users\\maxellende.julienne\\anaconda3\\envs\\env_stage\\lib\\site-packages (from scikit-learn<2,>=1.2.1->snowflake-ml-python) (1.2.0)\n",
      "Requirement already satisfied: threadpoolctl>=2.0.0 in c:\\users\\maxellende.julienne\\anaconda3\\envs\\env_stage\\lib\\site-packages (from scikit-learn<2,>=1.2.1->snowflake-ml-python) (3.1.0)\n",
      "Requirement already satisfied: asn1crypto<2.0.0,>0.24.0 in c:\\users\\maxellende.julienne\\anaconda3\\envs\\env_stage\\lib\\site-packages (from snowflake-connector-python[pandas]<4,>=3.0.3->snowflake-ml-python) (1.5.1)\n",
      "Requirement already satisfied: oscrypto<2.0.0 in c:\\users\\maxellende.julienne\\anaconda3\\envs\\env_stage\\lib\\site-packages (from snowflake-connector-python[pandas]<4,>=3.0.3->snowflake-ml-python) (1.2.1)\n",
      "Requirement already satisfied: pyOpenSSL<24.0.0,>=16.2.0 in c:\\users\\maxellende.julienne\\anaconda3\\envs\\env_stage\\lib\\site-packages (from snowflake-connector-python[pandas]<4,>=3.0.3->snowflake-ml-python) (22.0.0)\n",
      "Requirement already satisfied: pycryptodomex!=3.5.0,<4.0.0,>=3.2 in c:\\users\\maxellende.julienne\\anaconda3\\envs\\env_stage\\lib\\site-packages (from snowflake-connector-python[pandas]<4,>=3.0.3->snowflake-ml-python) (3.15.0)\n",
      "Requirement already satisfied: pyjwt<3.0.0 in c:\\users\\maxellende.julienne\\anaconda3\\envs\\env_stage\\lib\\site-packages (from snowflake-connector-python[pandas]<4,>=3.0.3->snowflake-ml-python) (2.4.0)\n",
      "Requirement already satisfied: charset-normalizer<3,>=2 in c:\\users\\maxellende.julienne\\anaconda3\\envs\\env_stage\\lib\\site-packages (from snowflake-connector-python[pandas]<4,>=3.0.3->snowflake-ml-python) (2.0.4)\n",
      "Requirement already satisfied: urllib3<1.27,>=1.21.1 in c:\\users\\maxellende.julienne\\anaconda3\\envs\\env_stage\\lib\\site-packages (from snowflake-connector-python[pandas]<4,>=3.0.3->snowflake-ml-python) (1.26.14)\n",
      "Requirement already satisfied: certifi>=2017.4.17 in c:\\users\\maxellende.julienne\\anaconda3\\envs\\env_stage\\lib\\site-packages (from snowflake-connector-python[pandas]<4,>=3.0.3->snowflake-ml-python) (2023.5.7)\n",
      "Requirement already satisfied: filelock<4,>=3.5 in c:\\users\\maxellende.julienne\\anaconda3\\envs\\env_stage\\lib\\site-packages (from snowflake-connector-python[pandas]<4,>=3.0.3->snowflake-ml-python) (3.12.2)\n",
      "Requirement already satisfied: pyarrow<10.1.0,>=10.0.1 in c:\\users\\maxellende.julienne\\anaconda3\\envs\\env_stage\\lib\\site-packages (from snowflake-connector-python[pandas]<4,>=3.0.3->snowflake-ml-python) (10.0.1)\n",
      "Requirement already satisfied: setuptools>=40.6.0 in c:\\users\\maxellende.julienne\\anaconda3\\envs\\env_stage\\lib\\site-packages (from snowflake-snowpark-python<2,>=1.4.0->snowflake-ml-python) (67.8.0)\n",
      "Requirement already satisfied: wheel in c:\\users\\maxellende.julienne\\anaconda3\\envs\\env_stage\\lib\\site-packages (from snowflake-snowpark-python<2,>=1.4.0->snowflake-ml-python) (0.38.4)\n",
      "Requirement already satisfied: attrs>=17.3.0 in c:\\users\\maxellende.julienne\\anaconda3\\envs\\env_stage\\lib\\site-packages (from aiohttp!=4.0.0a0,!=4.0.0a1->fsspec[http]<=2023.1,>=2022.11->snowflake-ml-python) (22.1.0)\n",
      "Collecting multidict<7.0,>=4.5 (from aiohttp!=4.0.0a0,!=4.0.0a1->fsspec[http]<=2023.1,>=2022.11->snowflake-ml-python)\n",
      "  Downloading multidict-6.0.4-cp38-cp38-win_amd64.whl (28 kB)\n",
      "Collecting async-timeout<5.0,>=4.0.0a3 (from aiohttp!=4.0.0a0,!=4.0.0a1->fsspec[http]<=2023.1,>=2022.11->snowflake-ml-python)\n",
      "  Using cached async_timeout-4.0.2-py3-none-any.whl (5.8 kB)\n",
      "Collecting yarl<2.0,>=1.0 (from aiohttp!=4.0.0a0,!=4.0.0a1->fsspec[http]<=2023.1,>=2022.11->snowflake-ml-python)\n",
      "  Downloading yarl-1.9.2-cp38-cp38-win_amd64.whl (61 kB)\n",
      "                                              0.0/61.8 kB ? eta -:--:--\n",
      "     ---------------------------------------- 61.8/61.8 kB ? eta 0:00:00\n",
      "Collecting frozenlist>=1.1.1 (from aiohttp!=4.0.0a0,!=4.0.0a1->fsspec[http]<=2023.1,>=2022.11->snowflake-ml-python)\n",
      "  Downloading frozenlist-1.3.3-cp38-cp38-win_amd64.whl (34 kB)\n",
      "Collecting aiosignal>=1.1.2 (from aiohttp!=4.0.0a0,!=4.0.0a1->fsspec[http]<=2023.1,>=2022.11->snowflake-ml-python)\n",
      "  Using cached aiosignal-1.3.1-py3-none-any.whl (7.6 kB)\n",
      "Requirement already satisfied: pycparser in c:\\users\\maxellende.julienne\\anaconda3\\envs\\env_stage\\lib\\site-packages (from cffi>=1.12->cryptography<39.0.0,>=3.1.0->snowflake-ml-python) (2.21)\n",
      "Requirement already satisfied: six>=1.5 in c:\\users\\maxellende.julienne\\anaconda3\\envs\\env_stage\\lib\\site-packages (from python-dateutil>=2.8.1->pandas<2,>=1.0.0->snowflake-ml-python) (1.16.0)\n",
      "Installing collected packages: sqlparse, pyyaml, multidict, fsspec, frozenlist, async-timeout, absl-py, yarl, aiosignal, aiohttp, snowflake-snowpark-python, snowflake-ml-python\n",
      "  Attempting uninstall: snowflake-snowpark-python\n",
      "    Found existing installation: snowflake-snowpark-python 1.3.0\n",
      "    Uninstalling snowflake-snowpark-python-1.3.0:\n",
      "      Successfully uninstalled snowflake-snowpark-python-1.3.0\n",
      "Successfully installed absl-py-1.4.0 aiohttp-3.8.4 aiosignal-1.3.1 async-timeout-4.0.2 frozenlist-1.3.3 fsspec-2023.1.0 multidict-6.0.4 pyyaml-6.0 snowflake-ml-python-1.0.2 snowflake-snowpark-python-1.5.1 sqlparse-0.4.4 yarl-1.9.2\n"
     ]
    }
   ],
   "source": [
    "! pip install snowflake-ml-python"
   ]
  },
  {
   "cell_type": "code",
   "execution_count": 2,
   "metadata": {},
   "outputs": [],
   "source": [
    "import snowflake.ml.modeling"
   ]
  }
 ],
 "metadata": {
  "kernelspec": {
   "display_name": "Python 3 (ipykernel)",
   "language": "python",
   "name": "python3"
  },
  "language_info": {
   "codemirror_mode": {
    "name": "ipython",
    "version": 3
   },
   "file_extension": ".py",
   "mimetype": "text/x-python",
   "name": "python",
   "nbconvert_exporter": "python",
   "pygments_lexer": "ipython3",
   "version": "3.9.16"
  }
 },
 "nbformat": 4,
 "nbformat_minor": 2
}
