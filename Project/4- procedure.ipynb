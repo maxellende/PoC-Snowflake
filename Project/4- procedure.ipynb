{
 "cells": [
  {
   "cell_type": "code",
   "execution_count": 18,
   "metadata": {},
   "outputs": [],
   "source": [
    "from snowflake.snowpark.session import Session\n",
    "import snowflake.snowpark.types as T\n",
    "\n",
    "import json\n",
    "import pandas as pd"
   ]
  },
  {
   "cell_type": "code",
   "execution_count": 29,
   "metadata": {},
   "outputs": [
    {
     "name": "stdout",
     "output_type": "stream",
     "text": [
      "Requirement already satisfied: lightgbm in c:\\users\\maxellende.julienne\\anaconda3\\envs\\env_stage\\lib\\site-packages (3.3.5)\n",
      "Requirement already satisfied: wheel in c:\\users\\maxellende.julienne\\anaconda3\\envs\\env_stage\\lib\\site-packages (from lightgbm) (0.38.4)\n",
      "Requirement already satisfied: numpy in c:\\users\\maxellende.julienne\\anaconda3\\envs\\env_stage\\lib\\site-packages (from lightgbm) (1.24.3)\n",
      "Requirement already satisfied: scipy in c:\\users\\maxellende.julienne\\anaconda3\\envs\\env_stage\\lib\\site-packages (from lightgbm) (1.10.1)\n",
      "Requirement already satisfied: scikit-learn!=0.22.0 in c:\\users\\maxellende.julienne\\anaconda3\\envs\\env_stage\\lib\\site-packages (from lightgbm) (1.2.2)\n",
      "Requirement already satisfied: joblib>=1.1.1 in c:\\users\\maxellende.julienne\\anaconda3\\envs\\env_stage\\lib\\site-packages (from scikit-learn!=0.22.0->lightgbm) (1.2.0)\n",
      "Requirement already satisfied: threadpoolctl>=2.0.0 in c:\\users\\maxellende.julienne\\anaconda3\\envs\\env_stage\\lib\\site-packages (from scikit-learn!=0.22.0->lightgbm) (3.1.0)\n"
     ]
    }
   ],
   "source": [
    "! pip install lightgbm"
   ]
  },
  {
   "cell_type": "code",
   "execution_count": 30,
   "metadata": {},
   "outputs": [],
   "source": [
    "# Saving the installed packages and their versions as a Json file\n",
    "import pkg_resources\n",
    "env = dict(tuple(str(ws).split()) for ws in pkg_resources.working_set)\n",
    "\n",
    "sp_udf_packages = ['snowflake-snowpark-python', 'pandas', 'scikit-learn', 'lightgbm', 'xgboost', 'cachetools', 'joblib', 'imbalanced-learn', 'matplotlib']\n",
    "\n",
    "packages_version = dict((k , env[k]) for k in sp_udf_packages if k in  env )\n",
    "with open('packages_version.json', 'w') as outfile:\n",
    "    outfile.write(json.dumps(packages_version))"
   ]
  },
  {
   "cell_type": "code",
   "execution_count": 31,
   "metadata": {},
   "outputs": [
    {
     "data": {
      "text/plain": [
       "{'snowflake-snowpark-python': '1.3.0',\n",
       " 'pandas': '1.5.3',\n",
       " 'scikit-learn': '1.2.2',\n",
       " 'xgboost': '1.7.6',\n",
       " 'joblib': '1.2.0',\n",
       " 'imbalanced-learn': '0.10.1',\n",
       " 'matplotlib': '3.7.1'}"
      ]
     },
     "execution_count": 31,
     "metadata": {},
     "output_type": "execute_result"
    }
   ],
   "source": [
    "with open('packages_version.json') as f:\n",
    "    packages_version = json.load(f)\n",
    "\n",
    "packages_version"
   ]
  },
  {
   "cell_type": "code",
   "execution_count": 21,
   "metadata": {},
   "outputs": [],
   "source": [
    "with open('creds.json') as f:\n",
    "    connection_parameters = json.load(f)"
   ]
  },
  {
   "cell_type": "code",
   "execution_count": 22,
   "metadata": {},
   "outputs": [
    {
     "name": "stdout",
     "output_type": "stream",
     "text": [
      "Current Database and schema: \"HOL_DB\".\"PUBLIC\"\n",
      "Current Warehouse: \"HOL_WH\"\n",
      "Role : \"ACCOUNTADMIN\"\n"
     ]
    }
   ],
   "source": [
    "session = Session.builder.configs(connection_parameters).create()\n",
    "print(f\"Current Database and schema: {session.get_fully_qualified_current_schema()}\")\n",
    "print(f\"Current Warehouse: {session.get_current_warehouse()}\")\n",
    "print(f\"Role : {session.get_current_role()}\")"
   ]
  },
  {
   "cell_type": "code",
   "execution_count": 23,
   "metadata": {},
   "outputs": [
    {
     "data": {
      "text/plain": [
       "[Row(status='Stage area ML_MODELS successfully created.')]"
      ]
     },
     "execution_count": 23,
     "metadata": {},
     "output_type": "execute_result"
    }
   ],
   "source": [
    "session.sql('CREATE OR REPLACE STAGE ML_MODELS').collect()\n"
   ]
  },
  {
   "cell_type": "code",
   "execution_count": 24,
   "metadata": {},
   "outputs": [
    {
     "data": {
      "text/html": [
       "<div>\n",
       "<style scoped>\n",
       "    .dataframe tbody tr th:only-of-type {\n",
       "        vertical-align: middle;\n",
       "    }\n",
       "\n",
       "    .dataframe tbody tr th {\n",
       "        vertical-align: top;\n",
       "    }\n",
       "\n",
       "    .dataframe thead th {\n",
       "        text-align: right;\n",
       "    }\n",
       "</style>\n",
       "<table border=\"1\" class=\"dataframe\">\n",
       "  <thead>\n",
       "    <tr style=\"text-align: right;\">\n",
       "      <th></th>\n",
       "      <th>created_on</th>\n",
       "      <th>name</th>\n",
       "      <th>database_name</th>\n",
       "      <th>schema_name</th>\n",
       "      <th>url</th>\n",
       "      <th>has_credentials</th>\n",
       "      <th>has_encryption_key</th>\n",
       "      <th>owner</th>\n",
       "      <th>comment</th>\n",
       "      <th>region</th>\n",
       "      <th>type</th>\n",
       "      <th>cloud</th>\n",
       "      <th>notification_channel</th>\n",
       "      <th>storage_integration</th>\n",
       "    </tr>\n",
       "  </thead>\n",
       "  <tbody>\n",
       "    <tr>\n",
       "      <th>0</th>\n",
       "      <td>2023-06-27 05:08:44.437000-07:00</td>\n",
       "      <td>ML_MODELS</td>\n",
       "      <td>HOL_DB</td>\n",
       "      <td>PUBLIC</td>\n",
       "      <td></td>\n",
       "      <td>N</td>\n",
       "      <td>N</td>\n",
       "      <td>ACCOUNTADMIN</td>\n",
       "      <td></td>\n",
       "      <td>None</td>\n",
       "      <td>INTERNAL</td>\n",
       "      <td>None</td>\n",
       "      <td>None</td>\n",
       "      <td>None</td>\n",
       "    </tr>\n",
       "  </tbody>\n",
       "</table>\n",
       "</div>"
      ],
      "text/plain": [
       "                        created_on       name database_name schema_name url  \\\n",
       "0 2023-06-27 05:08:44.437000-07:00  ML_MODELS        HOL_DB      PUBLIC       \n",
       "\n",
       "  has_credentials has_encryption_key         owner comment region      type  \\\n",
       "0               N                  N  ACCOUNTADMIN           None  INTERNAL   \n",
       "\n",
       "  cloud notification_channel storage_integration  \n",
       "0  None                 None                None  "
      ]
     },
     "execution_count": 24,
     "metadata": {},
     "output_type": "execute_result"
    }
   ],
   "source": [
    "pd.DataFrame(session.sql('SHOW STAGES').collect())\n"
   ]
  },
  {
   "cell_type": "code",
   "execution_count": 36,
   "metadata": {},
   "outputs": [],
   "source": [
    "import matplotlib.pyplot as plt\n",
    "import numpy as np\n",
    "import pandas as pd\n",
    "import time\n",
    "from imblearn.over_sampling import SMOTE\n",
    "import opendatasets as od\n",
    "from sklearn import svm\n",
    "from sklearn.inspection import DecisionBoundaryDisplay\n",
    "from sklearn.metrics import f1_score, confusion_matrix, ConfusionMatrixDisplay\n",
    "from sklearn.model_selection import GridSearchCV, train_test_split, StratifiedKFold, cross_val_score\n",
    "from sklearn.linear_model import LogisticRegression\n",
    "from sklearn.neighbors import KNeighborsClassifier\n",
    "from sklearn.tree import DecisionTreeClassifier\n",
    "from sklearn.ensemble import RandomForestClassifier\n",
    "from sklearn.preprocessing import StandardScaler\n",
    "from sklearn.pipeline import Pipeline\n",
    "from snowflake.snowpark import version\n",
    "from snowflake.snowpark.functions import udf, sproc, col\n",
    "from snowflake.snowpark.session import Session\n",
    "from snowflake.snowpark.types import IntegerType, FloatType, StringType, BooleanType, Variant\n",
    "\n",
    "print(f\"Snowflake snowpark version is: {version.VERSION}\")\n",
    "\n",
    "\n",
    "\n",
    "\n",
    "def main(session : Session, \n",
    "         table_name : str,\n",
    "         target : str,\n",
    "         clf : str) -> str :\n",
    "\n",
    "    # Load features\n",
    "    df = session.table(table_name).to_pandas()\n",
    "    print(df.head(), flush=True)\n",
    "    X = df.drop(target, axis = 1)\n",
    "    y = df[target]\n",
    "\n",
    "    # Split dataset into training and test\n",
    "    X_train, X_test, y_train, y_test = train_test_split(X, y, test_size=1/3, random_state = 42)\n",
    "    X_train, y_train = SMOTE().fit_resample(X_train,y_train)\n",
    "\n",
    "    # Preprocess numeric columns\n",
    "    numeric_features = df.select_dtypes(include=['float64']).columns\n",
    "    numeric_transformer = Pipeline(steps=[('poly',PolynomialFeatures(degree = 2)),('scaler', StandardScaler())])\n",
    "    preprocessor = ColumnTransformer(transformers=[('num', numeric_transformer, numeric_features)])\n",
    "\n",
    "    \n",
    "    def score_classifier(estimator,param_grid, X_train, y_train, X_test, y_test):\n",
    "\n",
    "        pipeline = Pipeline(steps=[('preprocessor', preprocessor),('pca', PCA(n_components = 0.9)),('estimator', estimator)])\n",
    "\n",
    "        # search for best parameters\n",
    "        cv = StratifiedKFold(n_splits = 5, shuffle = True).split(X_train,y_train)\n",
    "        clf = GridSearchCV(pipeline, param_grid, scoring ='recall', verbose =1, cv = cv)\n",
    "        clf.fit(X_train,y_train)\n",
    "\n",
    "        # evaluate best estimator\n",
    "        best_estimator = clf.best_estimator_\n",
    "        parameters = clf.best_params_\n",
    "        train_score = clf.best_score_\n",
    "        print(f'Average score of the best estimator (training dataset) : {train_score}')\n",
    "        y_pred = clf.predict(X_test) # same as best_estimator.predict(X)\n",
    "        cm = confusion_matrix(y_test, y_pred)\n",
    "        test_score = recall_score(y_test, y_pred)\n",
    "        disp = ConfusionMatrixDisplay(cm)\n",
    "        disp.plot()\n",
    "        title = str(estimator)+'\\n Recall score on test dataset : '+str(test_score)\n",
    "        plt.title(title)\n",
    "        plt.show()\n",
    "        return(best_estimator, parameters, y_pred, train_score, test_score, cm)\n",
    "\n",
    "    # Create pipeline and train\n",
    "    if clf == 'lr' : \n",
    "\n",
    "        estimator = LogisticRegression()\n",
    "        param_grid = {\n",
    "                'estimator__penalty': ['l1', 'l2'],  # Regularization penalty: L1 or L2\n",
    "                'estimator__C': [0.1, 1, 10],  # Inverse of regularization strength\n",
    "                'estimator__solver': ['liblinear', 'saga']  # Solver algorithm: 'liblinear' for small datasets, 'saga' for large datasets\n",
    "        }   \n",
    "        best_estimator, parameters, y_pred, train_score, test_score, cm = score_classifier(estimator,param_grid, X_train, y_train, X_test, y_test)   \n",
    "    \n",
    "    if clf == 'svm' : \n",
    "        parameters = {\n",
    "            'estimator__C': [0.1, 1, 10],  # Regularization parameter\n",
    "            'estimator__kernel': ['linear', 'rbf'],  # Kernel type: linear or radial basis function (RBF)\n",
    "            'estimator__gamma': ['scale', 'auto'],  # Kernel coefficient for RBF\n",
    "        }\n",
    "        estimator = svm.SVC()\n",
    "        best_estimator, parameters, y_pred, score, cm = score_classifier(X, estimator, parameters, y)\n",
    "\n",
    "\n",
    "    if clf == 'dt' : \n",
    "        parameters = {\n",
    "            'estimator__criterion': ['gini', 'entropy'],  # Split criterion: Gini impurity or information gain\n",
    "            'estimator__max_depth': [5, 10],  # Maximum depth of the tree\n",
    "            'estimator__min_samples_split': [2, 5, 10],  # Minimum number of samples required to split an internal node\n",
    "            'estimator__min_samples_leaf': [1, 2, 4],  # Minimum number of samples required to be at a leaf node\n",
    "            'estimator__max_features': [0.99, 'sqrt'],  # Number of features to consider when looking for the best split\n",
    "        }\n",
    "        estimator = DecisionTreeClassifier(verbose = 1)\n",
    "        best_estimator, parameters, y_pred, score, cm = score_classifier(X, estimator, parameters, y)\n",
    "\n",
    "    \n",
    "    if clf == 'rf' : \n",
    "        parameters = {\n",
    "        'estimator__n_estimators': [10, 100],  # Number of trees in the random forest\n",
    "        'estimator__max_depth': [5, 10],  # Maximum depth of each tree\n",
    "        'estimator__min_samples_split': [2, 5, 10],  # Minimum number of samples required to split an internal node\n",
    "        'estimator__min_samples_leaf': [1, 2, 4],  # Minimum number of samples required to be at a leaf node\n",
    "        'estimator__max_features': [0.99, 'sqrt'],  # Number of features to consider when looking for the best split\n",
    "        'estimator__bootstrap': [True, False]  # Whether bootstrap samples are used when building trees\n",
    "        }\n",
    "        estimator = RandomForestClassifier(verbose = 1)\n",
    "        best_estimator, parameters, y_pred, score, cm = score_classifier(X, estimator, parameters, y)\n",
    "\n",
    "\n",
    "    if clf == 'lgb' : \n",
    "        estimator = lgb.LGBMClassifier()\n",
    "        param_grid = {\n",
    "            'estimator__boosting_type': ['gbdt', 'dart'],  # Boosting type: Gradient Boosting Decision Tree (gbdt) or Dart\n",
    "            'estimator__num_leaves': [31, 63, 127],  # Maximum number of leaves in one tree\n",
    "            'estimator__learning_rate': [1.0, 0.1, 0.01],  # Learning rate\n",
    "            'estimator__subsample': [0.8, 1.0],  # Subsample ratio of the training instances\n",
    "            'estimator__colsample_bytree': [0.8, 1.0],  # Subsample ratio of columns when constructing each tree\n",
    "            'estimator__reg_alpha': [0.0, 0.1, 0.5],  # L1 regularization term\n",
    "            'estimator__reg_lambda': [0.0, 0.1, 0.5]  # L2 regularization term\n",
    "        }\n",
    "\n",
    "        best_estimator, parameters, y_pred, score, cm = score_classifier(estimator,param_grid, X_train, y_train, X_test, y_test)\n",
    "\n",
    "\n",
    "    # Upload trained model to a stage\n",
    "    model_file = os.path.join('/tmp', str(estimator)+'.joblib')\n",
    "    dump(best_estimator, model_file)\n",
    "    session.file.put(model_file, \"@ml_models\",overwrite=True)\n",
    "\n",
    "    return {\"Classifier tested\" : str(estimator), \"Recall score on Train\": train_score,\"R2 score on Test\": test_score}\n"
   ]
  },
  {
   "cell_type": "code",
   "execution_count": 37,
   "metadata": {},
   "outputs": [],
   "source": [
    "# Registering the function as a Stored Procedure\n",
    "\n",
    "sproc_main = session.sproc.register(func = main,\n",
    "                                    name ='main',\n",
    "                                    is_permanent = True,\n",
    "                                    replace=True, \n",
    "                                    stage_location='@ML_MODELS', \n",
    "                                    packages=[f'snowflake-snowpark-python=={packages_version[\"snowflake-snowpark-python\"]}'\n",
    "                                                ,f'scikit-learn=={packages_version[\"scikit-learn\"]}'\n",
    "                                                ,f'joblib=={packages_version[\"joblib\"]}'\n",
    "                                                ,f'imbalanced-learn=={packages_version[\"imbalanced-learn\"]}'\n",
    "                                                ,f'pandas=={packages_version[\"pandas\"]}'\n",
    "                                                ,f'matplotlib=={packages_version[\"matplotlib\"]}'\n",
    "                                                , 'lightgbm'])\n",
    "\n",
    "# Registering the function as a Stored Procedure\n",
    "\n",
    "# sproc_main = session.sproc.register(func = main,\n",
    "#                                     name ='main',\n",
    "#                                     is_permanent = True,\n",
    "#                                     replace=True, \n",
    "#                                     stage_location='@ML_MODELS', \n",
    "#                                     packages=[f'scikit-learn=={packages_version[\"scikit-learn\"]}'\n",
    "#                                                 ,f'joblib=={packages_version[\"joblib\"]}'])"
   ]
  },
  {
   "cell_type": "code",
   "execution_count": 38,
   "metadata": {},
   "outputs": [
    {
     "ename": "SnowparkSQLException",
     "evalue": "(1304): 390114 (08001): Authentication token has expired.  The user must authenticate again.",
     "output_type": "error",
     "traceback": [
      "\u001b[1;31m---------------------------------------------------------------------------\u001b[0m",
      "\u001b[1;31mSnowparkSQLException\u001b[0m                      Traceback (most recent call last)",
      "Cell \u001b[1;32mIn[38], line 6\u001b[0m\n\u001b[0;32m      3\u001b[0m \u001b[39m# table_name = session.get_fully_qualified_current_schema()+'.CREDIT_RECORD'\u001b[39;00m\n\u001b[0;32m      4\u001b[0m target \u001b[39m=\u001b[39m \u001b[39m'\u001b[39m\u001b[39mFRAUD_BOOL\u001b[39m\u001b[39m'\u001b[39m\n\u001b[1;32m----> 6\u001b[0m msg \u001b[39m=\u001b[39m sproc_main(table_name, target, \u001b[39m'\u001b[39;49m\u001b[39mlgb\u001b[39;49m\u001b[39m'\u001b[39;49m , session\u001b[39m=\u001b[39;49msession)\n\u001b[0;32m      7\u001b[0m \u001b[39mprint\u001b[39m(msg)\n",
      "File \u001b[1;32mc:\\Users\\maxellende.julienne\\Anaconda3\\envs\\env_stage\\lib\\site-packages\\snowflake\\snowpark\\stored_procedure.py:105\u001b[0m, in \u001b[0;36mStoredProcedure.__call__\u001b[1;34m(self, session, *args)\u001b[0m\n\u001b[0;32m    103\u001b[0m     \u001b[39mreturn\u001b[39;00m session\u001b[39m.\u001b[39msql(\u001b[39mf\u001b[39m\u001b[39m\"\u001b[39m\u001b[39m{\u001b[39;00m\u001b[39mself\u001b[39m\u001b[39m.\u001b[39m_anonymous_sp_sql\u001b[39m}\u001b[39;00m\u001b[39m{\u001b[39;00mcall_sql\u001b[39m}\u001b[39;00m\u001b[39m\"\u001b[39m)\u001b[39m.\u001b[39mcollect()[\u001b[39m0\u001b[39m][\u001b[39m0\u001b[39m]\n\u001b[0;32m    104\u001b[0m \u001b[39melse\u001b[39;00m:\n\u001b[1;32m--> 105\u001b[0m     \u001b[39mreturn\u001b[39;00m session\u001b[39m.\u001b[39;49mcall(\u001b[39mself\u001b[39;49m\u001b[39m.\u001b[39;49mname, \u001b[39m*\u001b[39;49margs)\n",
      "File \u001b[1;32mc:\\Users\\maxellende.julienne\\Anaconda3\\envs\\env_stage\\lib\\site-packages\\snowflake\\snowpark\\session.py:1871\u001b[0m, in \u001b[0;36mSession.call\u001b[1;34m(self, sproc_name, statement_params, *args)\u001b[0m\n\u001b[0;32m   1869\u001b[0m df \u001b[39m=\u001b[39m \u001b[39mself\u001b[39m\u001b[39m.\u001b[39msql(generate_call_python_sp_sql(\u001b[39mself\u001b[39m, sproc_name, \u001b[39m*\u001b[39margs))\n\u001b[0;32m   1870\u001b[0m set_api_call_source(df, \u001b[39m\"\u001b[39m\u001b[39mSession.call\u001b[39m\u001b[39m\"\u001b[39m)\n\u001b[1;32m-> 1871\u001b[0m \u001b[39mreturn\u001b[39;00m df\u001b[39m.\u001b[39;49mcollect(statement_params\u001b[39m=\u001b[39;49mstatement_params)[\u001b[39m0\u001b[39m][\u001b[39m0\u001b[39m]\n",
      "File \u001b[1;32mc:\\Users\\maxellende.julienne\\Anaconda3\\envs\\env_stage\\lib\\site-packages\\snowflake\\snowpark\\_internal\\telemetry.py:139\u001b[0m, in \u001b[0;36mdf_collect_api_telemetry.<locals>.wrap\u001b[1;34m(*args, **kwargs)\u001b[0m\n\u001b[0;32m    136\u001b[0m \u001b[39m@functools\u001b[39m\u001b[39m.\u001b[39mwraps(func)\n\u001b[0;32m    137\u001b[0m \u001b[39mdef\u001b[39;00m \u001b[39mwrap\u001b[39m(\u001b[39m*\u001b[39margs, \u001b[39m*\u001b[39m\u001b[39m*\u001b[39mkwargs):\n\u001b[0;32m    138\u001b[0m     \u001b[39mwith\u001b[39;00m args[\u001b[39m0\u001b[39m]\u001b[39m.\u001b[39m_session\u001b[39m.\u001b[39mquery_history() \u001b[39mas\u001b[39;00m query_history:\n\u001b[1;32m--> 139\u001b[0m         result \u001b[39m=\u001b[39m func(\u001b[39m*\u001b[39;49margs, \u001b[39m*\u001b[39;49m\u001b[39m*\u001b[39;49mkwargs)\n\u001b[0;32m    140\u001b[0m     plan \u001b[39m=\u001b[39m args[\u001b[39m0\u001b[39m]\u001b[39m.\u001b[39m_select_statement \u001b[39mor\u001b[39;00m args[\u001b[39m0\u001b[39m]\u001b[39m.\u001b[39m_plan\n\u001b[0;32m    141\u001b[0m     api_calls \u001b[39m=\u001b[39m [\n\u001b[0;32m    142\u001b[0m         \u001b[39m*\u001b[39mplan\u001b[39m.\u001b[39mapi_calls,\n\u001b[0;32m    143\u001b[0m         {TelemetryField\u001b[39m.\u001b[39mNAME\u001b[39m.\u001b[39mvalue: \u001b[39mf\u001b[39m\u001b[39m\"\u001b[39m\u001b[39mDataFrame.\u001b[39m\u001b[39m{\u001b[39;00mfunc\u001b[39m.\u001b[39m\u001b[39m__name__\u001b[39m\u001b[39m}\u001b[39;00m\u001b[39m\"\u001b[39m},\n\u001b[0;32m    144\u001b[0m     ]\n",
      "File \u001b[1;32mc:\\Users\\maxellende.julienne\\Anaconda3\\envs\\env_stage\\lib\\site-packages\\snowflake\\snowpark\\dataframe.py:571\u001b[0m, in \u001b[0;36mDataFrame.collect\u001b[1;34m(self, statement_params, block, log_on_exception, case_sensitive)\u001b[0m\n\u001b[0;32m    548\u001b[0m \u001b[39m@df_collect_api_telemetry\u001b[39m\n\u001b[0;32m    549\u001b[0m \u001b[39mdef\u001b[39;00m \u001b[39mcollect\u001b[39m(\n\u001b[0;32m    550\u001b[0m     \u001b[39mself\u001b[39m,\n\u001b[1;32m   (...)\u001b[0m\n\u001b[0;32m    555\u001b[0m     case_sensitive: \u001b[39mbool\u001b[39m \u001b[39m=\u001b[39m \u001b[39mTrue\u001b[39;00m,\n\u001b[0;32m    556\u001b[0m ) \u001b[39m-\u001b[39m\u001b[39m>\u001b[39m Union[List[Row], AsyncJob]:\n\u001b[0;32m    557\u001b[0m     \u001b[39m\"\"\"Executes the query representing this DataFrame and returns the result as a\u001b[39;00m\n\u001b[0;32m    558\u001b[0m \u001b[39m    list of :class:`Row` objects.\u001b[39;00m\n\u001b[0;32m    559\u001b[0m \n\u001b[1;32m   (...)\u001b[0m\n\u001b[0;32m    569\u001b[0m \u001b[39m        :meth:`collect_nowait()`\u001b[39;00m\n\u001b[0;32m    570\u001b[0m \u001b[39m    \"\"\"\u001b[39;00m\n\u001b[1;32m--> 571\u001b[0m     \u001b[39mreturn\u001b[39;00m \u001b[39mself\u001b[39;49m\u001b[39m.\u001b[39;49m_internal_collect_with_tag_no_telemetry(\n\u001b[0;32m    572\u001b[0m         statement_params\u001b[39m=\u001b[39;49mstatement_params,\n\u001b[0;32m    573\u001b[0m         block\u001b[39m=\u001b[39;49mblock,\n\u001b[0;32m    574\u001b[0m         log_on_exception\u001b[39m=\u001b[39;49mlog_on_exception,\n\u001b[0;32m    575\u001b[0m         case_sensitive\u001b[39m=\u001b[39;49mcase_sensitive,\n\u001b[0;32m    576\u001b[0m     )\n",
      "File \u001b[1;32mc:\\Users\\maxellende.julienne\\Anaconda3\\envs\\env_stage\\lib\\site-packages\\snowflake\\snowpark\\dataframe.py:618\u001b[0m, in \u001b[0;36mDataFrame._internal_collect_with_tag_no_telemetry\u001b[1;34m(self, statement_params, block, data_type, log_on_exception, case_sensitive)\u001b[0m\n\u001b[0;32m    606\u001b[0m \u001b[39mdef\u001b[39;00m \u001b[39m_internal_collect_with_tag_no_telemetry\u001b[39m(\n\u001b[0;32m    607\u001b[0m     \u001b[39mself\u001b[39m,\n\u001b[0;32m    608\u001b[0m     \u001b[39m*\u001b[39m,\n\u001b[1;32m   (...)\u001b[0m\n\u001b[0;32m    616\u001b[0m     \u001b[39m# we should always call this method instead of collect(), to make sure the\u001b[39;00m\n\u001b[0;32m    617\u001b[0m     \u001b[39m# query tag is set properly.\u001b[39;00m\n\u001b[1;32m--> 618\u001b[0m     \u001b[39mreturn\u001b[39;00m \u001b[39mself\u001b[39;49m\u001b[39m.\u001b[39;49m_session\u001b[39m.\u001b[39;49m_conn\u001b[39m.\u001b[39;49mexecute(\n\u001b[0;32m    619\u001b[0m         \u001b[39mself\u001b[39;49m\u001b[39m.\u001b[39;49m_plan,\n\u001b[0;32m    620\u001b[0m         block\u001b[39m=\u001b[39;49mblock,\n\u001b[0;32m    621\u001b[0m         data_type\u001b[39m=\u001b[39;49mdata_type,\n\u001b[0;32m    622\u001b[0m         _statement_params\u001b[39m=\u001b[39;49mcreate_or_update_statement_params_with_query_tag(\n\u001b[0;32m    623\u001b[0m             statement_params, \u001b[39mself\u001b[39;49m\u001b[39m.\u001b[39;49m_session\u001b[39m.\u001b[39;49mquery_tag, SKIP_LEVELS_THREE\n\u001b[0;32m    624\u001b[0m         ),\n\u001b[0;32m    625\u001b[0m         log_on_exception\u001b[39m=\u001b[39;49mlog_on_exception,\n\u001b[0;32m    626\u001b[0m         case_sensitive\u001b[39m=\u001b[39;49mcase_sensitive,\n\u001b[0;32m    627\u001b[0m     )\n",
      "File \u001b[1;32mc:\\Users\\maxellende.julienne\\Anaconda3\\envs\\env_stage\\lib\\site-packages\\snowflake\\snowpark\\_internal\\server_connection.py:418\u001b[0m, in \u001b[0;36mServerConnection.execute\u001b[1;34m(self, plan, to_pandas, to_iter, block, data_type, log_on_exception, case_sensitive, **kwargs)\u001b[0m\n\u001b[0;32m    414\u001b[0m \u001b[39mif\u001b[39;00m is_in_stored_procedure() \u001b[39mand\u001b[39;00m \u001b[39mnot\u001b[39;00m block:  \u001b[39m# pragma: no cover\u001b[39;00m\n\u001b[0;32m    415\u001b[0m     \u001b[39mraise\u001b[39;00m \u001b[39mNotImplementedError\u001b[39;00m(\n\u001b[0;32m    416\u001b[0m         \u001b[39m\"\u001b[39m\u001b[39mAsync query is not supported in stored procedure yet\u001b[39m\u001b[39m\"\u001b[39m\n\u001b[0;32m    417\u001b[0m     )\n\u001b[1;32m--> 418\u001b[0m result_set, result_meta \u001b[39m=\u001b[39m \u001b[39mself\u001b[39;49m\u001b[39m.\u001b[39;49mget_result_set(\n\u001b[0;32m    419\u001b[0m     plan,\n\u001b[0;32m    420\u001b[0m     to_pandas,\n\u001b[0;32m    421\u001b[0m     to_iter,\n\u001b[0;32m    422\u001b[0m     \u001b[39m*\u001b[39;49m\u001b[39m*\u001b[39;49mkwargs,\n\u001b[0;32m    423\u001b[0m     block\u001b[39m=\u001b[39;49mblock,\n\u001b[0;32m    424\u001b[0m     data_type\u001b[39m=\u001b[39;49mdata_type,\n\u001b[0;32m    425\u001b[0m     log_on_exception\u001b[39m=\u001b[39;49mlog_on_exception,\n\u001b[0;32m    426\u001b[0m     case_sensitive\u001b[39m=\u001b[39;49mcase_sensitive,\n\u001b[0;32m    427\u001b[0m )\n\u001b[0;32m    428\u001b[0m \u001b[39mif\u001b[39;00m \u001b[39mnot\u001b[39;00m block:\n\u001b[0;32m    429\u001b[0m     \u001b[39mreturn\u001b[39;00m result_set\n",
      "File \u001b[1;32mc:\\Users\\maxellende.julienne\\Anaconda3\\envs\\env_stage\\lib\\site-packages\\snowflake\\snowpark\\_internal\\analyzer\\snowflake_plan.py:168\u001b[0m, in \u001b[0;36mSnowflakePlan.Decorator.wrap_exception.<locals>.wrap\u001b[1;34m(*args, **kwargs)\u001b[0m\n\u001b[0;32m    164\u001b[0m \u001b[39melse\u001b[39;00m:\n\u001b[0;32m    165\u001b[0m     ne \u001b[39m=\u001b[39m SnowparkClientExceptionMessages\u001b[39m.\u001b[39mSQL_EXCEPTION_FROM_PROGRAMMING_ERROR(\n\u001b[0;32m    166\u001b[0m         e\n\u001b[0;32m    167\u001b[0m     )\n\u001b[1;32m--> 168\u001b[0m     \u001b[39mraise\u001b[39;00m ne\u001b[39m.\u001b[39mwith_traceback(tb) \u001b[39mfrom\u001b[39;00m \u001b[39mNone\u001b[39m\n",
      "File \u001b[1;32mc:\\Users\\maxellende.julienne\\Anaconda3\\envs\\env_stage\\lib\\site-packages\\snowflake\\snowpark\\_internal\\analyzer\\snowflake_plan.py:98\u001b[0m, in \u001b[0;36mSnowflakePlan.Decorator.wrap_exception.<locals>.wrap\u001b[1;34m(*args, **kwargs)\u001b[0m\n\u001b[0;32m     96\u001b[0m \u001b[39mdef\u001b[39;00m \u001b[39mwrap\u001b[39m(\u001b[39m*\u001b[39margs, \u001b[39m*\u001b[39m\u001b[39m*\u001b[39mkwargs):\n\u001b[0;32m     97\u001b[0m     \u001b[39mtry\u001b[39;00m:\n\u001b[1;32m---> 98\u001b[0m         \u001b[39mreturn\u001b[39;00m func(\u001b[39m*\u001b[39;49margs, \u001b[39m*\u001b[39;49m\u001b[39m*\u001b[39;49mkwargs)\n\u001b[0;32m     99\u001b[0m     \u001b[39mexcept\u001b[39;00m snowflake\u001b[39m.\u001b[39mconnector\u001b[39m.\u001b[39merrors\u001b[39m.\u001b[39mProgrammingError \u001b[39mas\u001b[39;00m e:\n\u001b[0;32m    100\u001b[0m         query \u001b[39m=\u001b[39m \u001b[39mNone\u001b[39;00m\n",
      "File \u001b[1;32mc:\\Users\\maxellende.julienne\\Anaconda3\\envs\\env_stage\\lib\\site-packages\\snowflake\\snowpark\\_internal\\server_connection.py:521\u001b[0m, in \u001b[0;36mServerConnection.get_result_set\u001b[1;34m(self, plan, to_pandas, to_iter, block, data_type, log_on_exception, case_sensitive, **kwargs)\u001b[0m\n\u001b[0;32m    519\u001b[0m \u001b[39mfor\u001b[39;00m holder, id_ \u001b[39min\u001b[39;00m placeholders\u001b[39m.\u001b[39mitems():\n\u001b[0;32m    520\u001b[0m     final_query \u001b[39m=\u001b[39m final_query\u001b[39m.\u001b[39mreplace(holder, id_)\n\u001b[1;32m--> 521\u001b[0m result \u001b[39m=\u001b[39m \u001b[39mself\u001b[39;49m\u001b[39m.\u001b[39;49mrun_query(\n\u001b[0;32m    522\u001b[0m     final_query,\n\u001b[0;32m    523\u001b[0m     to_pandas,\n\u001b[0;32m    524\u001b[0m     to_iter \u001b[39mand\u001b[39;49;00m (i \u001b[39m==\u001b[39;49m \u001b[39mlen\u001b[39;49m(plan\u001b[39m.\u001b[39;49mqueries) \u001b[39m-\u001b[39;49m \u001b[39m1\u001b[39;49m),\n\u001b[0;32m    525\u001b[0m     is_ddl_on_temp_object\u001b[39m=\u001b[39;49mquery\u001b[39m.\u001b[39;49mis_ddl_on_temp_object,\n\u001b[0;32m    526\u001b[0m     block\u001b[39m=\u001b[39;49m\u001b[39mnot\u001b[39;49;00m is_last,\n\u001b[0;32m    527\u001b[0m     data_type\u001b[39m=\u001b[39;49mdata_type,\n\u001b[0;32m    528\u001b[0m     async_job_plan\u001b[39m=\u001b[39;49mplan,\n\u001b[0;32m    529\u001b[0m     log_on_exception\u001b[39m=\u001b[39;49mlog_on_exception,\n\u001b[0;32m    530\u001b[0m     case_sensitive\u001b[39m=\u001b[39;49mcase_sensitive,\n\u001b[0;32m    531\u001b[0m     \u001b[39m*\u001b[39;49m\u001b[39m*\u001b[39;49mkwargs,\n\u001b[0;32m    532\u001b[0m )\n\u001b[0;32m    533\u001b[0m placeholders[query\u001b[39m.\u001b[39mquery_id_place_holder] \u001b[39m=\u001b[39m (\n\u001b[0;32m    534\u001b[0m     result[\u001b[39m\"\u001b[39m\u001b[39msfqid\u001b[39m\u001b[39m\"\u001b[39m] \u001b[39mif\u001b[39;00m \u001b[39mnot\u001b[39;00m is_last \u001b[39melse\u001b[39;00m result\u001b[39m.\u001b[39mquery_id\n\u001b[0;32m    535\u001b[0m )\n\u001b[0;32m    536\u001b[0m result_meta \u001b[39m=\u001b[39m \u001b[39mself\u001b[39m\u001b[39m.\u001b[39m_cursor\u001b[39m.\u001b[39mdescription\n",
      "File \u001b[1;32mc:\\Users\\maxellende.julienne\\Anaconda3\\envs\\env_stage\\lib\\site-packages\\snowflake\\snowpark\\_internal\\server_connection.py:101\u001b[0m, in \u001b[0;36mServerConnection._Decorator.wrap_exception.<locals>.wrap\u001b[1;34m(*args, **kwargs)\u001b[0m\n\u001b[0;32m     97\u001b[0m     \u001b[39mraise\u001b[39;00m SnowparkClientExceptionMessages\u001b[39m.\u001b[39mSERVER_SESSION_EXPIRED(\n\u001b[0;32m     98\u001b[0m         ex\u001b[39m.\u001b[39mcause\n\u001b[0;32m     99\u001b[0m     )\n\u001b[0;32m    100\u001b[0m \u001b[39mexcept\u001b[39;00m \u001b[39mException\u001b[39;00m \u001b[39mas\u001b[39;00m ex:\n\u001b[1;32m--> 101\u001b[0m     \u001b[39mraise\u001b[39;00m ex\n",
      "File \u001b[1;32mc:\\Users\\maxellende.julienne\\Anaconda3\\envs\\env_stage\\lib\\site-packages\\snowflake\\snowpark\\_internal\\server_connection.py:95\u001b[0m, in \u001b[0;36mServerConnection._Decorator.wrap_exception.<locals>.wrap\u001b[1;34m(*args, **kwargs)\u001b[0m\n\u001b[0;32m     93\u001b[0m     \u001b[39mraise\u001b[39;00m SnowparkClientExceptionMessages\u001b[39m.\u001b[39mSERVER_SESSION_HAS_BEEN_CLOSED()\n\u001b[0;32m     94\u001b[0m \u001b[39mtry\u001b[39;00m:\n\u001b[1;32m---> 95\u001b[0m     \u001b[39mreturn\u001b[39;00m func(\u001b[39m*\u001b[39;49margs, \u001b[39m*\u001b[39;49m\u001b[39m*\u001b[39;49mkwargs)\n\u001b[0;32m     96\u001b[0m \u001b[39mexcept\u001b[39;00m ReauthenticationRequest \u001b[39mas\u001b[39;00m ex:\n\u001b[0;32m     97\u001b[0m     \u001b[39mraise\u001b[39;00m SnowparkClientExceptionMessages\u001b[39m.\u001b[39mSERVER_SESSION_EXPIRED(\n\u001b[0;32m     98\u001b[0m         ex\u001b[39m.\u001b[39mcause\n\u001b[0;32m     99\u001b[0m     )\n",
      "File \u001b[1;32mc:\\Users\\maxellende.julienne\\Anaconda3\\envs\\env_stage\\lib\\site-packages\\snowflake\\snowpark\\_internal\\server_connection.py:341\u001b[0m, in \u001b[0;36mServerConnection.run_query\u001b[1;34m(self, query, to_pandas, to_iter, is_ddl_on_temp_object, block, data_type, async_job_plan, log_on_exception, case_sensitive, **kwargs)\u001b[0m\n\u001b[0;32m    339\u001b[0m         query_id_log \u001b[39m=\u001b[39m \u001b[39mf\u001b[39m\u001b[39m\"\u001b[39m\u001b[39m [queryID: \u001b[39m\u001b[39m{\u001b[39;00mex\u001b[39m.\u001b[39msfqid\u001b[39m}\u001b[39;00m\u001b[39m]\u001b[39m\u001b[39m\"\u001b[39m \u001b[39mif\u001b[39;00m \u001b[39mhasattr\u001b[39m(ex, \u001b[39m\"\u001b[39m\u001b[39msfqid\u001b[39m\u001b[39m\"\u001b[39m) \u001b[39melse\u001b[39;00m \u001b[39m\"\u001b[39m\u001b[39m\"\u001b[39m\n\u001b[0;32m    340\u001b[0m         logger\u001b[39m.\u001b[39merror(\u001b[39mf\u001b[39m\u001b[39m\"\u001b[39m\u001b[39mFailed to execute query\u001b[39m\u001b[39m{\u001b[39;00mquery_id_log\u001b[39m}\u001b[39;00m\u001b[39m \u001b[39m\u001b[39m{\u001b[39;00mquery\u001b[39m}\u001b[39;00m\u001b[39m\\n\u001b[39;00m\u001b[39m{\u001b[39;00mex\u001b[39m}\u001b[39;00m\u001b[39m\"\u001b[39m)\n\u001b[1;32m--> 341\u001b[0m     \u001b[39mraise\u001b[39;00m ex\n\u001b[0;32m    343\u001b[0m \u001b[39m# fetch_pandas_all/batches() only works for SELECT statements\u001b[39;00m\n\u001b[0;32m    344\u001b[0m \u001b[39m# We call fetchall() if fetch_pandas_all/batches() fails,\u001b[39;00m\n\u001b[0;32m    345\u001b[0m \u001b[39m# because when the query plan has multiple queries, it will\u001b[39;00m\n\u001b[0;32m    346\u001b[0m \u001b[39m# have non-select statements, and it shouldn't fail if the user\u001b[39;00m\n\u001b[0;32m    347\u001b[0m \u001b[39m# calls to_pandas() to execute the query.\u001b[39;00m\n\u001b[0;32m    348\u001b[0m \u001b[39mif\u001b[39;00m block:\n",
      "File \u001b[1;32mc:\\Users\\maxellende.julienne\\Anaconda3\\envs\\env_stage\\lib\\site-packages\\snowflake\\snowpark\\_internal\\server_connection.py:324\u001b[0m, in \u001b[0;36mServerConnection.run_query\u001b[1;34m(self, query, to_pandas, to_iter, is_ddl_on_temp_object, block, data_type, async_job_plan, log_on_exception, case_sensitive, **kwargs)\u001b[0m\n\u001b[0;32m    322\u001b[0m     kwargs[\u001b[39m\"\u001b[39m\u001b[39m_statement_params\u001b[39m\u001b[39m\"\u001b[39m][\u001b[39m\"\u001b[39m\u001b[39mSNOWPARK_SKIP_TXN_COMMIT_IN_DDL\u001b[39m\u001b[39m\"\u001b[39m] \u001b[39m=\u001b[39m \u001b[39mTrue\u001b[39;00m\n\u001b[0;32m    323\u001b[0m \u001b[39mif\u001b[39;00m block:\n\u001b[1;32m--> 324\u001b[0m     results_cursor \u001b[39m=\u001b[39m \u001b[39mself\u001b[39;49m\u001b[39m.\u001b[39;49m_cursor\u001b[39m.\u001b[39;49mexecute(query, \u001b[39m*\u001b[39;49m\u001b[39m*\u001b[39;49mkwargs)\n\u001b[0;32m    325\u001b[0m     \u001b[39mself\u001b[39m\u001b[39m.\u001b[39mnotify_query_listeners(\n\u001b[0;32m    326\u001b[0m         QueryRecord(results_cursor\u001b[39m.\u001b[39msfqid, results_cursor\u001b[39m.\u001b[39mquery)\n\u001b[0;32m    327\u001b[0m     )\n\u001b[0;32m    328\u001b[0m     logger\u001b[39m.\u001b[39mdebug(\u001b[39mf\u001b[39m\u001b[39m\"\u001b[39m\u001b[39mExecute query [queryID: \u001b[39m\u001b[39m{\u001b[39;00mresults_cursor\u001b[39m.\u001b[39msfqid\u001b[39m}\u001b[39;00m\u001b[39m] \u001b[39m\u001b[39m{\u001b[39;00mquery\u001b[39m}\u001b[39;00m\u001b[39m\"\u001b[39m)\n",
      "File \u001b[1;32mc:\\Users\\maxellende.julienne\\Anaconda3\\envs\\env_stage\\lib\\site-packages\\snowflake\\connector\\cursor.py:801\u001b[0m, in \u001b[0;36mSnowflakeCursor.execute\u001b[1;34m(self, command, params, _bind_stage, timeout, _exec_async, _no_retry, _do_reset, _put_callback, _put_azure_callback, _put_callback_output_stream, _get_callback, _get_azure_callback, _get_callback_output_stream, _show_progress_bar, _statement_params, _is_internal, _describe_only, _no_results, _is_put_get, _raise_put_get_error, _force_put_overwrite, _skip_upload_on_content_match, file_stream, num_statements)\u001b[0m\n\u001b[0;32m    799\u001b[0m \u001b[39mif\u001b[39;00m logger\u001b[39m.\u001b[39mgetEffectiveLevel() \u001b[39m<\u001b[39m\u001b[39m=\u001b[39m logging\u001b[39m.\u001b[39mINFO:\n\u001b[0;32m    800\u001b[0m     logger\u001b[39m.\u001b[39minfo(\u001b[39m\"\u001b[39m\u001b[39mquery: [\u001b[39m\u001b[39m%s\u001b[39;00m\u001b[39m]\u001b[39m\u001b[39m\"\u001b[39m, \u001b[39mself\u001b[39m\u001b[39m.\u001b[39m_format_query_for_log(query))\n\u001b[1;32m--> 801\u001b[0m ret \u001b[39m=\u001b[39m \u001b[39mself\u001b[39;49m\u001b[39m.\u001b[39;49m_execute_helper(query, \u001b[39m*\u001b[39;49m\u001b[39m*\u001b[39;49mkwargs)\n\u001b[0;32m    802\u001b[0m \u001b[39mself\u001b[39m\u001b[39m.\u001b[39m_sfqid \u001b[39m=\u001b[39m (\n\u001b[0;32m    803\u001b[0m     ret[\u001b[39m\"\u001b[39m\u001b[39mdata\u001b[39m\u001b[39m\"\u001b[39m][\u001b[39m\"\u001b[39m\u001b[39mqueryId\u001b[39m\u001b[39m\"\u001b[39m]\n\u001b[0;32m    804\u001b[0m     \u001b[39mif\u001b[39;00m \u001b[39m\"\u001b[39m\u001b[39mdata\u001b[39m\u001b[39m\"\u001b[39m \u001b[39min\u001b[39;00m ret \u001b[39mand\u001b[39;00m \u001b[39m\"\u001b[39m\u001b[39mqueryId\u001b[39m\u001b[39m\"\u001b[39m \u001b[39min\u001b[39;00m ret[\u001b[39m\"\u001b[39m\u001b[39mdata\u001b[39m\u001b[39m\"\u001b[39m]\n\u001b[0;32m    805\u001b[0m     \u001b[39melse\u001b[39;00m \u001b[39mNone\u001b[39;00m\n\u001b[0;32m    806\u001b[0m )\n\u001b[0;32m    807\u001b[0m logger\u001b[39m.\u001b[39mdebug(\u001b[39mf\u001b[39m\u001b[39m\"\u001b[39m\u001b[39msfqid: \u001b[39m\u001b[39m{\u001b[39;00m\u001b[39mself\u001b[39m\u001b[39m.\u001b[39msfqid\u001b[39m}\u001b[39;00m\u001b[39m\"\u001b[39m)\n",
      "File \u001b[1;32mc:\\Users\\maxellende.julienne\\Anaconda3\\envs\\env_stage\\lib\\site-packages\\snowflake\\connector\\cursor.py:521\u001b[0m, in \u001b[0;36mSnowflakeCursor._execute_helper\u001b[1;34m(self, query, timeout, statement_params, binding_params, binding_stage, is_internal, describe_only, _no_results, _is_put_get, _no_retry)\u001b[0m\n\u001b[0;32m    519\u001b[0m ret: \u001b[39mdict\u001b[39m[\u001b[39mstr\u001b[39m, Any] \u001b[39m=\u001b[39m {\u001b[39m\"\u001b[39m\u001b[39mdata\u001b[39m\u001b[39m\"\u001b[39m: {}}\n\u001b[0;32m    520\u001b[0m \u001b[39mtry\u001b[39;00m:\n\u001b[1;32m--> 521\u001b[0m     ret \u001b[39m=\u001b[39m \u001b[39mself\u001b[39;49m\u001b[39m.\u001b[39;49m_connection\u001b[39m.\u001b[39;49mcmd_query(\n\u001b[0;32m    522\u001b[0m         query,\n\u001b[0;32m    523\u001b[0m         \u001b[39mself\u001b[39;49m\u001b[39m.\u001b[39;49m_sequence_counter,\n\u001b[0;32m    524\u001b[0m         \u001b[39mself\u001b[39;49m\u001b[39m.\u001b[39;49m_request_id,\n\u001b[0;32m    525\u001b[0m         binding_params\u001b[39m=\u001b[39;49mbinding_params,\n\u001b[0;32m    526\u001b[0m         binding_stage\u001b[39m=\u001b[39;49mbinding_stage,\n\u001b[0;32m    527\u001b[0m         is_file_transfer\u001b[39m=\u001b[39;49m\u001b[39mbool\u001b[39;49m(\u001b[39mself\u001b[39;49m\u001b[39m.\u001b[39;49m_is_file_transfer),\n\u001b[0;32m    528\u001b[0m         statement_params\u001b[39m=\u001b[39;49mstatement_params,\n\u001b[0;32m    529\u001b[0m         is_internal\u001b[39m=\u001b[39;49mis_internal,\n\u001b[0;32m    530\u001b[0m         describe_only\u001b[39m=\u001b[39;49mdescribe_only,\n\u001b[0;32m    531\u001b[0m         _no_results\u001b[39m=\u001b[39;49m_no_results,\n\u001b[0;32m    532\u001b[0m         _no_retry\u001b[39m=\u001b[39;49m_no_retry,\n\u001b[0;32m    533\u001b[0m     )\n\u001b[0;32m    534\u001b[0m \u001b[39mfinally\u001b[39;00m:\n\u001b[0;32m    535\u001b[0m     \u001b[39mtry\u001b[39;00m:\n",
      "File \u001b[1;32mc:\\Users\\maxellende.julienne\\Anaconda3\\envs\\env_stage\\lib\\site-packages\\snowflake\\connector\\connection.py:1067\u001b[0m, in \u001b[0;36mSnowflakeConnection.cmd_query\u001b[1;34m(self, sql, sequence_counter, request_id, binding_params, binding_stage, is_file_transfer, statement_params, is_internal, describe_only, _no_results, _update_current_object, _no_retry)\u001b[0m\n\u001b[0;32m   1058\u001b[0m     logger\u001b[39m.\u001b[39mdebug(\n\u001b[0;32m   1059\u001b[0m         \u001b[39m\"\u001b[39m\u001b[39msql=[\u001b[39m\u001b[39m%s\u001b[39;00m\u001b[39m], sequence_id=[\u001b[39m\u001b[39m%s\u001b[39;00m\u001b[39m], is_file_transfer=[\u001b[39m\u001b[39m%s\u001b[39;00m\u001b[39m]\u001b[39m\u001b[39m\"\u001b[39m,\n\u001b[0;32m   1060\u001b[0m         \u001b[39mself\u001b[39m\u001b[39m.\u001b[39m_format_query_for_log(data[\u001b[39m\"\u001b[39m\u001b[39msqlText\u001b[39m\u001b[39m\"\u001b[39m]),\n\u001b[0;32m   1061\u001b[0m         data[\u001b[39m\"\u001b[39m\u001b[39msequenceId\u001b[39m\u001b[39m\"\u001b[39m],\n\u001b[0;32m   1062\u001b[0m         is_file_transfer,\n\u001b[0;32m   1063\u001b[0m     )\n\u001b[0;32m   1065\u001b[0m url_parameters \u001b[39m=\u001b[39m {REQUEST_ID: request_id}\n\u001b[1;32m-> 1067\u001b[0m ret \u001b[39m=\u001b[39m \u001b[39mself\u001b[39;49m\u001b[39m.\u001b[39;49mrest\u001b[39m.\u001b[39;49mrequest(\n\u001b[0;32m   1068\u001b[0m     \u001b[39m\"\u001b[39;49m\u001b[39m/queries/v1/query-request?\u001b[39;49m\u001b[39m\"\u001b[39;49m \u001b[39m+\u001b[39;49m urlencode(url_parameters),\n\u001b[0;32m   1069\u001b[0m     data,\n\u001b[0;32m   1070\u001b[0m     client\u001b[39m=\u001b[39;49mclient,\n\u001b[0;32m   1071\u001b[0m     _no_results\u001b[39m=\u001b[39;49m_no_results,\n\u001b[0;32m   1072\u001b[0m     _include_retry_params\u001b[39m=\u001b[39;49m\u001b[39mTrue\u001b[39;49;00m,\n\u001b[0;32m   1073\u001b[0m     _no_retry\u001b[39m=\u001b[39;49m_no_retry,\n\u001b[0;32m   1074\u001b[0m )\n\u001b[0;32m   1076\u001b[0m \u001b[39mif\u001b[39;00m ret \u001b[39mis\u001b[39;00m \u001b[39mNone\u001b[39;00m:\n\u001b[0;32m   1077\u001b[0m     ret \u001b[39m=\u001b[39m {\u001b[39m\"\u001b[39m\u001b[39mdata\u001b[39m\u001b[39m\"\u001b[39m: {}}\n",
      "File \u001b[1;32mc:\\Users\\maxellende.julienne\\Anaconda3\\envs\\env_stage\\lib\\site-packages\\snowflake\\connector\\network.py:477\u001b[0m, in \u001b[0;36mSnowflakeRestful.request\u001b[1;34m(self, url, body, method, client, _no_results, timeout, _include_retry_params, _no_retry)\u001b[0m\n\u001b[0;32m    475\u001b[0m     headers[HTTP_HEADER_SERVICE_NAME] \u001b[39m=\u001b[39m \u001b[39mself\u001b[39m\u001b[39m.\u001b[39m_connection\u001b[39m.\u001b[39mservice_name\n\u001b[0;32m    476\u001b[0m \u001b[39mif\u001b[39;00m method \u001b[39m==\u001b[39m \u001b[39m\"\u001b[39m\u001b[39mpost\u001b[39m\u001b[39m\"\u001b[39m:\n\u001b[1;32m--> 477\u001b[0m     \u001b[39mreturn\u001b[39;00m \u001b[39mself\u001b[39;49m\u001b[39m.\u001b[39;49m_post_request(\n\u001b[0;32m    478\u001b[0m         url,\n\u001b[0;32m    479\u001b[0m         headers,\n\u001b[0;32m    480\u001b[0m         json\u001b[39m.\u001b[39;49mdumps(body),\n\u001b[0;32m    481\u001b[0m         token\u001b[39m=\u001b[39;49m\u001b[39mself\u001b[39;49m\u001b[39m.\u001b[39;49mtoken,\n\u001b[0;32m    482\u001b[0m         _no_results\u001b[39m=\u001b[39;49m_no_results,\n\u001b[0;32m    483\u001b[0m         timeout\u001b[39m=\u001b[39;49mtimeout,\n\u001b[0;32m    484\u001b[0m         _include_retry_params\u001b[39m=\u001b[39;49m_include_retry_params,\n\u001b[0;32m    485\u001b[0m         no_retry\u001b[39m=\u001b[39;49m_no_retry,\n\u001b[0;32m    486\u001b[0m     )\n\u001b[0;32m    487\u001b[0m \u001b[39melse\u001b[39;00m:\n\u001b[0;32m    488\u001b[0m     \u001b[39mreturn\u001b[39;00m \u001b[39mself\u001b[39m\u001b[39m.\u001b[39m_get_request(url, headers, token\u001b[39m=\u001b[39m\u001b[39mself\u001b[39m\u001b[39m.\u001b[39mtoken, timeout\u001b[39m=\u001b[39mtimeout)\n",
      "File \u001b[1;32mc:\\Users\\maxellende.julienne\\Anaconda3\\envs\\env_stage\\lib\\site-packages\\snowflake\\connector\\network.py:763\u001b[0m, in \u001b[0;36mSnowflakeRestful._post_request\u001b[1;34m(self, url, headers, body, token, timeout, _no_results, no_retry, socket_timeout, _include_retry_params)\u001b[0m\n\u001b[0;32m    761\u001b[0m result_url \u001b[39m=\u001b[39m ret[\u001b[39m\"\u001b[39m\u001b[39mdata\u001b[39m\u001b[39m\"\u001b[39m][\u001b[39m\"\u001b[39m\u001b[39mgetResultUrl\u001b[39m\u001b[39m\"\u001b[39m]\n\u001b[0;32m    762\u001b[0m logger\u001b[39m.\u001b[39mdebug(\u001b[39m\"\u001b[39m\u001b[39mping pong starting...\u001b[39m\u001b[39m\"\u001b[39m)\n\u001b[1;32m--> 763\u001b[0m ret \u001b[39m=\u001b[39m \u001b[39mself\u001b[39;49m\u001b[39m.\u001b[39;49m_get_request(\n\u001b[0;32m    764\u001b[0m     result_url, headers, token\u001b[39m=\u001b[39;49m\u001b[39mself\u001b[39;49m\u001b[39m.\u001b[39;49mtoken, timeout\u001b[39m=\u001b[39;49mtimeout\n\u001b[0;32m    765\u001b[0m )\n\u001b[0;32m    766\u001b[0m logger\u001b[39m.\u001b[39mdebug(\u001b[39m\"\u001b[39m\u001b[39mret[code] = \u001b[39m\u001b[39m%s\u001b[39;00m\u001b[39m\"\u001b[39m, ret\u001b[39m.\u001b[39mget(\u001b[39m\"\u001b[39m\u001b[39mcode\u001b[39m\u001b[39m\"\u001b[39m, \u001b[39m\"\u001b[39m\u001b[39mN/A\u001b[39m\u001b[39m\"\u001b[39m))\n\u001b[0;32m    767\u001b[0m logger\u001b[39m.\u001b[39mdebug(\u001b[39m\"\u001b[39m\u001b[39mping pong done\u001b[39m\u001b[39m\"\u001b[39m)\n",
      "File \u001b[1;32mc:\\Users\\maxellende.julienne\\Anaconda3\\envs\\env_stage\\lib\\site-packages\\snowflake\\connector\\network.py:685\u001b[0m, in \u001b[0;36mSnowflakeRestful._get_request\u001b[1;34m(self, url, headers, token, timeout, socket_timeout)\u001b[0m\n\u001b[0;32m    683\u001b[0m \u001b[39mexcept\u001b[39;00m ReauthenticationRequest \u001b[39mas\u001b[39;00m ex:\n\u001b[0;32m    684\u001b[0m     \u001b[39mif\u001b[39;00m \u001b[39mself\u001b[39m\u001b[39m.\u001b[39m_connection\u001b[39m.\u001b[39m_authenticator \u001b[39m!=\u001b[39m EXTERNAL_BROWSER_AUTHENTICATOR:\n\u001b[1;32m--> 685\u001b[0m         \u001b[39mraise\u001b[39;00m ex\u001b[39m.\u001b[39mcause\n\u001b[0;32m    686\u001b[0m     ret \u001b[39m=\u001b[39m \u001b[39mself\u001b[39m\u001b[39m.\u001b[39m_connection\u001b[39m.\u001b[39m_reauthenticate()\n\u001b[0;32m    687\u001b[0m logger\u001b[39m.\u001b[39mdebug(\n\u001b[0;32m    688\u001b[0m     \u001b[39m\"\u001b[39m\u001b[39mret[code] = \u001b[39m\u001b[39m{code}\u001b[39;00m\u001b[39m after renew_session\u001b[39m\u001b[39m\"\u001b[39m\u001b[39m.\u001b[39mformat(\n\u001b[0;32m    689\u001b[0m         code\u001b[39m=\u001b[39m(ret\u001b[39m.\u001b[39mget(\u001b[39m\"\u001b[39m\u001b[39mcode\u001b[39m\u001b[39m\"\u001b[39m, \u001b[39m\"\u001b[39m\u001b[39mN/A\u001b[39m\u001b[39m\"\u001b[39m))\n\u001b[0;32m    690\u001b[0m     )\n\u001b[0;32m    691\u001b[0m )\n",
      "\u001b[1;31mSnowparkSQLException\u001b[0m: (1304): 390114 (08001): Authentication token has expired.  The user must authenticate again."
     ]
    }
   ],
   "source": [
    "table_name = 'CREDIT_RECORD'\n",
    "\n",
    "# table_name = session.get_fully_qualified_current_schema()+'.CREDIT_RECORD'\n",
    "target = 'FRAUD_BOOL'\n",
    "\n",
    "msg = sproc_main(table_name, target, 'lgb' , session=session)\n",
    "print(msg)"
   ]
  },
  {
   "cell_type": "code",
   "execution_count": null,
   "metadata": {},
   "outputs": [
    {
     "data": {
      "text/html": [
       "<div>\n",
       "<style scoped>\n",
       "    .dataframe tbody tr th:only-of-type {\n",
       "        vertical-align: middle;\n",
       "    }\n",
       "\n",
       "    .dataframe tbody tr th {\n",
       "        vertical-align: top;\n",
       "    }\n",
       "\n",
       "    .dataframe thead th {\n",
       "        text-align: right;\n",
       "    }\n",
       "</style>\n",
       "<table border=\"1\" class=\"dataframe\">\n",
       "  <thead>\n",
       "    <tr style=\"text-align: right;\">\n",
       "      <th></th>\n",
       "      <th>name</th>\n",
       "      <th>size</th>\n",
       "      <th>md5</th>\n",
       "      <th>last_modified</th>\n",
       "    </tr>\n",
       "  </thead>\n",
       "  <tbody>\n",
       "    <tr>\n",
       "      <th>0</th>\n",
       "      <td>ml_models/LogisticRegression().joblib.gz</td>\n",
       "      <td>9072</td>\n",
       "      <td>20a1f9c32fa77e892516a93efca76e06</td>\n",
       "      <td>Mon, 26 Jun 2023 16:17:59 GMT</td>\n",
       "    </tr>\n",
       "    <tr>\n",
       "      <th>1</th>\n",
       "      <td>ml_models/main/udf_py_1294080697.zip</td>\n",
       "      <td>3888</td>\n",
       "      <td>70f912261607487dcdd13d85c44222c2</td>\n",
       "      <td>Mon, 26 Jun 2023 15:43:33 GMT</td>\n",
       "    </tr>\n",
       "    <tr>\n",
       "      <th>2</th>\n",
       "      <td>ml_models/main/udf_py_1413835883.zip</td>\n",
       "      <td>3888</td>\n",
       "      <td>ebfe916dd4837f3d81e59e066997a5f3</td>\n",
       "      <td>Mon, 26 Jun 2023 15:27:50 GMT</td>\n",
       "    </tr>\n",
       "    <tr>\n",
       "      <th>3</th>\n",
       "      <td>ml_models/main/udf_py_2012092536.zip</td>\n",
       "      <td>3888</td>\n",
       "      <td>1d0ddda64fc44815587270e7f1d112f2</td>\n",
       "      <td>Mon, 26 Jun 2023 15:54:43 GMT</td>\n",
       "    </tr>\n",
       "    <tr>\n",
       "      <th>4</th>\n",
       "      <td>ml_models/main/udf_py_92652747.zip</td>\n",
       "      <td>3872</td>\n",
       "      <td>452f6594eb16baab7eb3123b11a43d7d</td>\n",
       "      <td>Mon, 26 Jun 2023 16:10:12 GMT</td>\n",
       "    </tr>\n",
       "  </tbody>\n",
       "</table>\n",
       "</div>"
      ],
      "text/plain": [
       "                                       name  size  \\\n",
       "0  ml_models/LogisticRegression().joblib.gz  9072   \n",
       "1      ml_models/main/udf_py_1294080697.zip  3888   \n",
       "2      ml_models/main/udf_py_1413835883.zip  3888   \n",
       "3      ml_models/main/udf_py_2012092536.zip  3888   \n",
       "4        ml_models/main/udf_py_92652747.zip  3872   \n",
       "\n",
       "                                md5                  last_modified  \n",
       "0  20a1f9c32fa77e892516a93efca76e06  Mon, 26 Jun 2023 16:17:59 GMT  \n",
       "1  70f912261607487dcdd13d85c44222c2  Mon, 26 Jun 2023 15:43:33 GMT  \n",
       "2  ebfe916dd4837f3d81e59e066997a5f3  Mon, 26 Jun 2023 15:27:50 GMT  \n",
       "3  1d0ddda64fc44815587270e7f1d112f2  Mon, 26 Jun 2023 15:54:43 GMT  \n",
       "4  452f6594eb16baab7eb3123b11a43d7d  Mon, 26 Jun 2023 16:10:12 GMT  "
      ]
     },
     "execution_count": 182,
     "metadata": {},
     "output_type": "execute_result"
    }
   ],
   "source": [
    "# The model is now stored in a Snowflake stage\n",
    "pd.DataFrame(session.sql('LIST @ML_MODELS').collect())"
   ]
  },
  {
   "cell_type": "code",
   "execution_count": null,
   "metadata": {},
   "outputs": [],
   "source": []
  },
  {
   "cell_type": "code",
   "execution_count": null,
   "metadata": {},
   "outputs": [],
   "source": []
  }
 ],
 "metadata": {
  "kernelspec": {
   "display_name": "env_stage",
   "language": "python",
   "name": "python3"
  },
  "language_info": {
   "codemirror_mode": {
    "name": "ipython",
    "version": 3
   },
   "file_extension": ".py",
   "mimetype": "text/x-python",
   "name": "python",
   "nbconvert_exporter": "python",
   "pygments_lexer": "ipython3",
   "version": "3.8.16"
  },
  "orig_nbformat": 4
 },
 "nbformat": 4,
 "nbformat_minor": 2
}
